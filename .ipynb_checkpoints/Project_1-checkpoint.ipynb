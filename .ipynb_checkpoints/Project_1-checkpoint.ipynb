{
 "cells": [
  {
   "cell_type": "code",
   "execution_count": 2,
   "metadata": {},
   "outputs": [],
   "source": [
    "import pandas as pd"
   ]
  },
  {
   "cell_type": "code",
   "execution_count": 4,
   "metadata": {},
   "outputs": [
    {
     "data": {
      "text/plain": [
       "(      nconst       primary_name  birth_year  death_year  \\\n",
       " 0  nm0061671  Mary Ellen Bauder         NaN         NaN   \n",
       " 1  nm0061865       Joseph Bauer         NaN         NaN   \n",
       " 2  nm0062070         Bruce Baum         NaN         NaN   \n",
       " 3  nm0062195       Axel Baumann         NaN         NaN   \n",
       " 4  nm0062798        Pete Baxter         NaN         NaN   \n",
       " \n",
       "                                  primary_profession  \\\n",
       " 0         miscellaneous,production_manager,producer   \n",
       " 1        composer,music_department,sound_department   \n",
       " 2                        miscellaneous,actor,writer   \n",
       " 3  camera_department,cinematographer,art_department   \n",
       " 4  production_designer,art_department,set_decorator   \n",
       " \n",
       "                           known_for_titles  \n",
       " 0  tt0837562,tt2398241,tt0844471,tt0118553  \n",
       " 1  tt0896534,tt6791238,tt0287072,tt1682940  \n",
       " 2  tt1470654,tt0363631,tt0104030,tt0102898  \n",
       " 3  tt0114371,tt2004304,tt1618448,tt1224387  \n",
       " 4  tt0452644,tt0452692,tt3458030,tt2178256  ,\n",
       " (606648, 6))"
      ]
     },
     "execution_count": 4,
     "metadata": {},
     "output_type": "execute_result"
    }
   ],
   "source": [
    "df = pd.read_csv('Data/name.basics.csv')\n",
    "df.head(), df.shape"
   ]
  },
  {
   "cell_type": "code",
   "execution_count": 6,
   "metadata": {},
   "outputs": [
    {
     "data": {
      "text/plain": [
       "(       tconst  averagerating  numvotes\n",
       " 0  tt10356526            8.3        31\n",
       " 1  tt10384606            8.9       559\n",
       " 2   tt1042974            6.4        20\n",
       " 3   tt1043726            4.2     50352\n",
       " 4   tt1060240            6.5        21,\n",
       " (73856, 3))"
      ]
     },
     "execution_count": 6,
     "metadata": {},
     "output_type": "execute_result"
    }
   ],
   "source": [
    "df1 = pd.read_csv('Data/title.ratings.csv')\n",
    "df1.head(), df1.shape"
   ]
  },
  {
   "cell_type": "code",
   "execution_count": 7,
   "metadata": {},
   "outputs": [
    {
     "data": {
      "text/plain": [
       "(   id  release_date                                        movie  \\\n",
       " 0   1  Dec 18, 2009                                       Avatar   \n",
       " 1   2  May 20, 2011  Pirates of the Caribbean: On Stranger Tides   \n",
       " 2   3   Jun 7, 2019                                 Dark Phoenix   \n",
       " 3   4   May 1, 2015                      Avengers: Age of Ultron   \n",
       " 4   5  Dec 15, 2017            Star Wars Ep. VIII: The Last Jedi   \n",
       " \n",
       "   production_budget domestic_gross worldwide_gross  \n",
       " 0      $425,000,000   $760,507,625  $2,776,345,279  \n",
       " 1      $410,600,000   $241,063,875  $1,045,663,875  \n",
       " 2      $350,000,000    $42,762,350    $149,762,350  \n",
       " 3      $330,600,000   $459,005,868  $1,403,013,963  \n",
       " 4      $317,000,000   $620,181,382  $1,316,721,747  ,\n",
       " (5782, 6))"
      ]
     },
     "execution_count": 7,
     "metadata": {},
     "output_type": "execute_result"
    }
   ],
   "source": [
    "df2 = pd.read_csv('Data/tn.movie_budgets.csv')\n",
    "df2.head(), df2.shape"
   ]
  },
  {
   "cell_type": "code",
   "execution_count": 8,
   "metadata": {},
   "outputs": [
    {
     "data": {
      "text/plain": [
       "(             genre_ids     id original_language  \\\n",
       " 0      [12, 14, 10751]  12444                en   \n",
       " 1  [14, 12, 16, 10751]  10191                en   \n",
       " 2        [12, 28, 878]  10138                en   \n",
       " 3      [16, 35, 10751]    862                en   \n",
       " 4        [28, 878, 12]  27205                en   \n",
       " \n",
       "                                  original_title  popularity release_date  \\\n",
       " 0  Harry Potter and the Deathly Hallows: Part 1      33.533   2010-11-19   \n",
       " 1                      How to Train Your Dragon      28.734   2010-03-26   \n",
       " 2                                    Iron Man 2      28.515   2010-05-07   \n",
       " 3                                     Toy Story      28.005   1995-11-22   \n",
       " 4                                     Inception      27.920   2010-07-16   \n",
       " \n",
       "                                           title  vote_average  vote_count  \n",
       " 0  Harry Potter and the Deathly Hallows: Part 1           7.7       10788  \n",
       " 1                      How to Train Your Dragon           7.7        7610  \n",
       " 2                                    Iron Man 2           6.8       12368  \n",
       " 3                                     Toy Story           7.9       10174  \n",
       " 4                                     Inception           8.3       22186  ,\n",
       " (26517, 9))"
      ]
     },
     "execution_count": 8,
     "metadata": {},
     "output_type": "execute_result"
    }
   ],
   "source": [
    "df3 = pd.read_csv('Data/tmdb.movies.csv', index_col= 'Unnamed: 0')\n",
    "df3.head(), df3.shape"
   ]
  },
  {
   "cell_type": "code",
   "execution_count": 9,
   "metadata": {},
   "outputs": [
    {
     "data": {
      "text/html": [
       "<div>\n",
       "<style scoped>\n",
       "    .dataframe tbody tr th:only-of-type {\n",
       "        vertical-align: middle;\n",
       "    }\n",
       "\n",
       "    .dataframe tbody tr th {\n",
       "        vertical-align: top;\n",
       "    }\n",
       "\n",
       "    .dataframe thead th {\n",
       "        text-align: right;\n",
       "    }\n",
       "</style>\n",
       "<table border=\"1\" class=\"dataframe\">\n",
       "  <thead>\n",
       "    <tr style=\"text-align: right;\">\n",
       "      <th></th>\n",
       "      <th>id</th>\n",
       "      <th>release_date</th>\n",
       "      <th>movie</th>\n",
       "      <th>production_budget</th>\n",
       "      <th>domestic_gross</th>\n",
       "      <th>worldwide_gross</th>\n",
       "    </tr>\n",
       "  </thead>\n",
       "  <tbody>\n",
       "    <tr>\n",
       "      <th>1836</th>\n",
       "      <td>37</td>\n",
       "      <td>Nov 22, 1995</td>\n",
       "      <td>Toy Story</td>\n",
       "      <td>$30,000,000</td>\n",
       "      <td>$191,796,233</td>\n",
       "      <td>$364,545,516</td>\n",
       "    </tr>\n",
       "  </tbody>\n",
       "</table>\n",
       "</div>"
      ],
      "text/plain": [
       "      id  release_date      movie production_budget domestic_gross  \\\n",
       "1836  37  Nov 22, 1995  Toy Story       $30,000,000   $191,796,233   \n",
       "\n",
       "     worldwide_gross  \n",
       "1836    $364,545,516  "
      ]
     },
     "execution_count": 9,
     "metadata": {},
     "output_type": "execute_result"
    }
   ],
   "source": [
    "df2[df2['movie'] == 'Toy Story']"
   ]
  },
  {
   "cell_type": "markdown",
   "metadata": {},
   "source": [
    "# There are duplicates in df3, which is tmdb.movies.csv"
   ]
  },
  {
   "cell_type": "code",
   "execution_count": 10,
   "metadata": {},
   "outputs": [
    {
     "data": {
      "text/html": [
       "<div>\n",
       "<style scoped>\n",
       "    .dataframe tbody tr th:only-of-type {\n",
       "        vertical-align: middle;\n",
       "    }\n",
       "\n",
       "    .dataframe tbody tr th {\n",
       "        vertical-align: top;\n",
       "    }\n",
       "\n",
       "    .dataframe thead th {\n",
       "        text-align: right;\n",
       "    }\n",
       "</style>\n",
       "<table border=\"1\" class=\"dataframe\">\n",
       "  <thead>\n",
       "    <tr style=\"text-align: right;\">\n",
       "      <th></th>\n",
       "      <th>genre_ids</th>\n",
       "      <th>id</th>\n",
       "      <th>original_language</th>\n",
       "      <th>original_title</th>\n",
       "      <th>popularity</th>\n",
       "      <th>release_date</th>\n",
       "      <th>title</th>\n",
       "      <th>vote_average</th>\n",
       "      <th>vote_count</th>\n",
       "    </tr>\n",
       "  </thead>\n",
       "  <tbody>\n",
       "    <tr>\n",
       "      <th>3</th>\n",
       "      <td>[16, 35, 10751]</td>\n",
       "      <td>862</td>\n",
       "      <td>en</td>\n",
       "      <td>Toy Story</td>\n",
       "      <td>28.005</td>\n",
       "      <td>1995-11-22</td>\n",
       "      <td>Toy Story</td>\n",
       "      <td>7.9</td>\n",
       "      <td>10174</td>\n",
       "    </tr>\n",
       "    <tr>\n",
       "      <th>2473</th>\n",
       "      <td>[16, 35, 10751]</td>\n",
       "      <td>862</td>\n",
       "      <td>en</td>\n",
       "      <td>Toy Story</td>\n",
       "      <td>28.005</td>\n",
       "      <td>1995-11-22</td>\n",
       "      <td>Toy Story</td>\n",
       "      <td>7.9</td>\n",
       "      <td>10174</td>\n",
       "    </tr>\n",
       "  </tbody>\n",
       "</table>\n",
       "</div>"
      ],
      "text/plain": [
       "            genre_ids   id original_language original_title  popularity  \\\n",
       "3     [16, 35, 10751]  862                en      Toy Story      28.005   \n",
       "2473  [16, 35, 10751]  862                en      Toy Story      28.005   \n",
       "\n",
       "     release_date      title  vote_average  vote_count  \n",
       "3      1995-11-22  Toy Story           7.9       10174  \n",
       "2473   1995-11-22  Toy Story           7.9       10174  "
      ]
     },
     "execution_count": 10,
     "metadata": {},
     "output_type": "execute_result"
    }
   ],
   "source": [
    "df3[df3['title']  == 'Toy Story']"
   ]
  },
  {
   "cell_type": "code",
   "execution_count": 11,
   "metadata": {},
   "outputs": [],
   "source": [
    "df3.drop_duplicates(inplace=True)"
   ]
  },
  {
   "cell_type": "code",
   "execution_count": 12,
   "metadata": {},
   "outputs": [
    {
     "data": {
      "text/plain": [
       "(25497, 9)"
      ]
     },
     "execution_count": 12,
     "metadata": {},
     "output_type": "execute_result"
    }
   ],
   "source": [
    "df3.shape"
   ]
  },
  {
   "cell_type": "code",
   "execution_count": null,
   "metadata": {},
   "outputs": [],
   "source": []
  }
 ],
 "metadata": {
  "kernelspec": {
   "display_name": "Python (learn-env)",
   "language": "python",
   "name": "learn-env"
  },
  "language_info": {
   "codemirror_mode": {
    "name": "ipython",
    "version": 3
   },
   "file_extension": ".py",
   "mimetype": "text/x-python",
   "name": "python",
   "nbconvert_exporter": "python",
   "pygments_lexer": "ipython3",
   "version": "3.8.5"
  }
 },
 "nbformat": 4,
 "nbformat_minor": 4
}
