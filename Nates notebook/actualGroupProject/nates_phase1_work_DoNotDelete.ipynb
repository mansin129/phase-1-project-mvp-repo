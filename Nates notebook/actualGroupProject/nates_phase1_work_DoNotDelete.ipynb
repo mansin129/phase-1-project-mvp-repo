{
 "cells": [
  {
   "cell_type": "markdown",
   "metadata": {},
   "source": [
    "# Things done"
   ]
  },
  {
   "cell_type": "markdown",
   "metadata": {},
   "source": [
    "names2 dataframe removed 6783 filmmakers who have died and will be unable to make our movies \n",
    "\n",
    "will the remaining names2['primary_profession'] column match up to Manav's crew['writer'] and crew['directors'] columns ?\n",
    "\n",
    "names2 split primary_profession to access individual professions in the lists\n",
    "\n",
    "names2 Dropped the now-vacant death_year column\n",
    "\n",
    "names2 df dropped birth_year col\n",
    "\n",
    "Discovered that the values in *title2['tconst']* are the same as the values in *akas2['title_id']*\n",
    "\n",
    "Changed *akas2['title_id']* to *akas['tconst']* to match *title2['tconst'] so we can compare overseas titles and revenue\n",
    "\n",
    "added .gitignore to our phase-1-group-branch (ignore .ipnb)\n",
    "\n",
    "dropped any rows outside of Ben's Box-office range of 2015 - 2018 in title2 (from 146,144; down to 67,868)\n",
    "\n",
    "likewise dropped any rows in akas2 (to 187,981 down from 331,703) not in newly formed title2 with only Ben's years as a range\n",
    "\n",
    "dropped names2 from 606,648 to 599,685 (6,963 filmmakers who are deceased) \n",
    "\n",
    "after successful dropping of any professions other than writer and director in names2 \n",
    "of writer/director, names2 has 195,828 rows\n",
    "\n",
    "Printed out a list of strings representing all unique professions under names2.primary_profession\n",
    "(e.g. producer, director, writer) can add to line of code below to taylor to any of our hiring\n",
    "needs and wants\n",
    "\n"
   ]
  },
  {
   "cell_type": "markdown",
   "metadata": {},
   "source": [
    "## scrapped work"
   ]
  },
  {
   "cell_type": "code",
   "execution_count": 917,
   "metadata": {},
   "outputs": [],
   "source": [
    "# def format_data(df):\n",
    "#     for i in range(df.shape[0]):\n",
    "        \n",
    "#         df.iat[i,1]= df.iat[i,1].strip(\" \")\n",
    "# format_data(names2)\n",
    "# names2.head(5)\n",
    "\n",
    "# s = names2['primary_profession'].apply(lambda x: [z for y in x for z in y.strip(\",\").lower().split()])\n",
    "\n",
    "#s = [[z for y in x for z in y.strip(\",\").lower().split(\" \")] for x in names2['primary_profession']]\n",
    "\n",
    "# changing values in the column from obj to str\n",
    "#\n",
    "#names2['primary_profession'] = names2['primary_profession'].astype('str') \n",
    "# checking that our entries are strings\n",
    "#type(names2.loc[0]['primary_profession'])\n",
    "\n",
    "# # making sure our strings are .lower()\n",
    "# names2['primary_profession'] = names2['primary_profession'].apply(lambda x : x.lower())\n",
    "# names2['primary_profession']\n",
    "\n",
    "# #df[df['A'].str.contains(\"hello\")]\n",
    "# names2['primary_profession'] = names2['primary_profession'].str.contains(\"director\")\n",
    "# len(names2)\n",
    "\n",
    "# drop the old primary_profession column filled with booleans\n",
    "#names2.drop(['primary_profession'], axis=1, inplace=True)"
   ]
  },
  {
   "cell_type": "code",
   "execution_count": 918,
   "metadata": {},
   "outputs": [],
   "source": [
    "# trying to get rows from one df that are not in another failure\n",
    "#pd.merge(title2, akas2, on=['tconst'], how='inner')"
   ]
  },
  {
   "cell_type": "code",
   "execution_count": 919,
   "metadata": {},
   "outputs": [],
   "source": [
    "# # turning the lists in names2['primary_profession'] inot lists with real life strings in them.\n",
    "# def clean_alt_list(list_):\n",
    "#     list_ = list_.replace(', ', '\",\"')\n",
    "#     list_ = list_.replace('[', '[\"')\n",
    "#     list_ = list_.replace(']', '\"]')\n",
    "#     return list_\n",
    "# names2['primary_profession'] = names2['primary_profession'].apply(clean_alt_list)"
   ]
  },
  {
   "cell_type": "code",
   "execution_count": 941,
   "metadata": {},
   "outputs": [],
   "source": [
    "##inverse filtering\n",
    "\n",
    "#value_list = ['miscellaneous', 'production_manager', 'composer', 'music_department', 'sound_department',\n",
    "      #'miscellaneous', 'actor', '...', 'costume_department', 'costume_designer', 'actress', 'art_director', 'music_department' ]\n",
    "\n",
    "##have to split the arrays first\n",
    "\n",
    "#inverse_bool_series = ~names2.primary_profession.isin(value_list)\n",
    "#names2_filtered = names2[inverse_bool_series]\n",
    "#names2_filtered"
   ]
  },
  {
   "cell_type": "code",
   "execution_count": 942,
   "metadata": {},
   "outputs": [],
   "source": [
    "# objective: to strip, clean and seperate names2[primary_profession]\n",
    "# to find directors and writers and producers that are alive\n",
    "# who make successful movies\n",
    "# names2['primary_profession'] = names2['primary_profession'].str.split(\",\").str[:3]\n",
    "# names2['primary_profession']\n",
    "# (names2['primary_profession'][0])\n",
    "# type(names2['primary_profession'][0][0]) "
   ]
  },
  {
   "cell_type": "code",
   "execution_count": 943,
   "metadata": {},
   "outputs": [],
   "source": [
    "# for index, row in names2.iterrows():\n",
    "#     idx = list(len(range(names2.primary_profession)))\n",
    "#     for i in idx:\n",
    "#         print(row['primary_profession'][i])"
   ]
  },
  {
   "cell_type": "code",
   "execution_count": 923,
   "metadata": {},
   "outputs": [],
   "source": [
    "# for i in range(len(names2)):\n",
    "#     print(names2.loc[i, 'primary_profession'])"
   ]
  },
  {
   "cell_type": "code",
   "execution_count": 1109,
   "metadata": {},
   "outputs": [],
   "source": [
    "# # set the words you want to match.\n",
    "# matched_words = ['writer', 'writer director', 'director']\n",
    "# #drop rows which has nan in column 'primary_profession'\n",
    "# names2 = names2.dropna(axis='index', subset=['primary_profession'])\n",
    "# #extract all matched words\n",
    "# names2_extractall = names2['primary_profession'].str.extractall(rf'({\"|\".join(matched_words)})')\n",
    "# #groupby index and join those matches result by ','\n",
    "# mod_prof = names2_extractall.groupby(level=0).apply(lambda x: \",\".join(x.iloc[:, 0]))\n",
    "# #assign to column 'primary_profession'\n",
    "# names2 = names2.assign(primary_profession=mod_prof)\n",
    "# #drop no matched rows\n",
    "# names2 = names2.dropna(axis='index', subset=['primary_profession'])\n"
   ]
  },
  {
   "cell_type": "markdown",
   "metadata": {},
   "source": [
    "## End of scrapped work"
   ]
  },
  {
   "cell_type": "code",
   "execution_count": 1176,
   "metadata": {},
   "outputs": [],
   "source": [
    "import pandas as pd"
   ]
  },
  {
   "cell_type": "code",
   "execution_count": 1177,
   "metadata": {},
   "outputs": [],
   "source": [
    "# load Nate's imdb_dataframes (Manav has other 3 imdb dfs)\n",
    "\n",
    "crew_imdb = pd.read_csv('imdb.title.crew.csv.gz') # manav'\n",
    "\n",
    "\n",
    "# nate's 3 dfs\n",
    "title_basics_imdb = pd.read_csv('imdb.title.basics.csv.gz')\n",
    "akas_imdb = pd.read_csv('imdb.title.akas.csv.gz')\n",
    "name_basics_imdb = pd.read_csv('imdb.name.basics.csv.gz')\n",
    "\n",
    "# renaming the dataframes to make them easier to work with\n",
    "crew = crew_imdb # manav's df\n",
    "\n",
    "# nate's 3 dfs with cleaner names\n",
    "title = title_basics_imdb\n",
    "akas = akas_imdb\n",
    "names = name_basics_imdb"
   ]
  },
  {
   "cell_type": "markdown",
   "metadata": {},
   "source": [
    "### making copies of the dataframes for trial and error purposes"
   ]
  },
  {
   "cell_type": "code",
   "execution_count": 1178,
   "metadata": {},
   "outputs": [],
   "source": [
    "# making copies of the original dfs to work on \n",
    "\n",
    "title2 = title.copy(deep=True)\n",
    "title3 = title.copy(deep=True) # the test df for the test df...nan\n",
    "akas2 = akas.copy(deep=True)\n",
    "names2 = names.copy(deep=True)\n",
    "crew2 = crew.copy(deep=True)"
   ]
  },
  {
   "cell_type": "markdown",
   "metadata": {},
   "source": [
    "## Beginning to clean and alter the data frames"
   ]
  },
  {
   "cell_type": "code",
   "execution_count": 1179,
   "metadata": {},
   "outputs": [],
   "source": [
    "# remove all directors from the names2 df that have died\n",
    "names2 = names2.loc[names2['death_year'].isna()].reset_index(drop=True)"
   ]
  },
  {
   "cell_type": "code",
   "execution_count": 1180,
   "metadata": {},
   "outputs": [],
   "source": [
    "# dropped the now-vacant death_year column\n",
    "names2.drop(['death_year'], axis = 1, inplace=True)\n",
    "# also dropping the birth_year column\n",
    "names2.drop(['birth_year'], axis=1, inplace=True)"
   ]
  },
  {
   "cell_type": "code",
   "execution_count": 1181,
   "metadata": {
    "scrolled": true
   },
   "outputs": [],
   "source": [
    "# checks if first row from akas2 is in title2\n",
    "#title2[title2['tconst'].str.contains(\"tt0401729\")] ## uncomment this line to see what we're looking for\n",
    "# it is so let's rename the akas2 'title_id' col to tconst for easy matching"
   ]
  },
  {
   "cell_type": "markdown",
   "metadata": {},
   "source": [
    "reasigning the name of the first column in akas2 from title_id to tconst\n",
    "so title2 and akas2 can be compared more readily"
   ]
  },
  {
   "cell_type": "code",
   "execution_count": 1182,
   "metadata": {},
   "outputs": [],
   "source": [
    "akas2.rename(columns = {'title_id':'tconst'}, inplace = True)"
   ]
  },
  {
   "cell_type": "code",
   "execution_count": 1183,
   "metadata": {},
   "outputs": [],
   "source": [
    "# getting rid of any rows outside of Ben's Box-Office dates range of 2015 - 2018\n",
    "title2 = title2.loc[(title2['start_year'] >= 2015) & (title2['start_year'] <= 2018)]\n",
    "#title2\n",
    "# that looks good. Now let's make sure akas2 matches those years\n",
    "#len(title2)"
   ]
  },
  {
   "cell_type": "markdown",
   "metadata": {},
   "source": [
    "if akas2['tconst'] not in title2['tconst'] with Ben's range of years, drop those rows in skas2['tconst']\n",
    "something like:  if akas2['tconst'] not in title2['tconst'] drop akas2['tconst']"
   ]
  },
  {
   "cell_type": "code",
   "execution_count": 1184,
   "metadata": {},
   "outputs": [],
   "source": [
    "common = akas2.merge(title2, on=[\"tconst\"])\n",
    "akas2 = result = akas2[~akas2.tconst.isin(common.tconst)]\n",
    "#len(akas2)"
   ]
  },
  {
   "cell_type": "markdown",
   "metadata": {},
   "source": [
    "in the above cellthe reason that akas2 has more rows is that \n",
    "there are multiple titles in several different\n",
    "languages, sharing the same tconst label. \n",
    "There are, however, no tconst in akas2 \n",
    "that are not in title2 and vise versa."
   ]
  },
  {
   "cell_type": "markdown",
   "metadata": {},
   "source": [
    "steps toward achieving ***first normal form***"
   ]
  },
  {
   "cell_type": "code",
   "execution_count": 1185,
   "metadata": {},
   "outputs": [],
   "source": [
    "# get rid of any professions other than writer and director or writer/director under primary_profession column\n",
    "profs = names2['primary_profession'].str.split(',').explode()\n",
    "filtered_profs = profs[profs.isin(['writer', 'writer director', 'director'])]\n",
    "filtered_profs.groupby(filtered_profs.index).agg(','.join)\n",
    "names2 = names2.drop('primary_profession', axis=1).join(filtered_profs.groupby(filtered_profs.index).agg(','.join), how='inner')"
   ]
  },
  {
   "cell_type": "markdown",
   "metadata": {},
   "source": [
    "### failure at searching for highest grossin films by title"
   ]
  },
  {
   "cell_type": "code",
   "execution_count": 1227,
   "metadata": {},
   "outputs": [
    {
     "data": {
      "text/plain": [
       "tconst                                              tt2488496\n",
       "primary_title      Star Wars: Episode VII - The Force Awakens\n",
       "original_title     Star Wars: Episode VII - The Force Awakens\n",
       "start_year                                               2015\n",
       "runtime_minutes                                           136\n",
       "genres                               Action,Adventure,Fantasy\n",
       "Name: 41443, dtype: object"
      ]
     },
     "execution_count": 1227,
     "metadata": {},
     "output_type": "execute_result"
    }
   ],
   "source": [
    "films = title2['primary_title']\n",
    "star_wars = films[films.isin(['Star Wars: Episode VII - The Force Awakens'])]\n",
    "star_wars\n",
    "title2.loc[41443, :]"
   ]
  },
  {
   "cell_type": "code",
   "execution_count": 1237,
   "metadata": {},
   "outputs": [],
   "source": [
    "# Now we have the tconst of Star Wars: Episode VII. \n",
    "# Let's find who the writer's directors were by tconst\n",
    "\n",
    "extra_directors = names2[names2.known_for_titles.str.contains('tt2488496', na=False)].head(5)"
   ]
  },
  {
   "cell_type": "markdown",
   "metadata": {},
   "source": [
    "The above list points out that just because we have primary profssion \n",
    "narrowed down to writer and director, doesn't mean that when we search for\n",
    "that tconst under known_for_titles it will return only our desired director.\n",
    "other actors and producers who worked on star was in that capacity are also \n",
    "directors on other projects. Thusly, there name is still associated with the\n",
    "profession director/writer and returned with our search along with the \n",
    "real writer and director"
   ]
  },
  {
   "cell_type": "markdown",
   "metadata": {},
   "source": [
    "**-----------------------------------------------------------------------------------------------------------------**"
   ]
  },
  {
   "cell_type": "code",
   "execution_count": 1170,
   "metadata": {},
   "outputs": [
    {
     "data": {
      "text/html": [
       "<div>\n",
       "<style scoped>\n",
       "    .dataframe tbody tr th:only-of-type {\n",
       "        vertical-align: middle;\n",
       "    }\n",
       "\n",
       "    .dataframe tbody tr th {\n",
       "        vertical-align: top;\n",
       "    }\n",
       "\n",
       "    .dataframe thead th {\n",
       "        text-align: right;\n",
       "    }\n",
       "</style>\n",
       "<table border=\"1\" class=\"dataframe\">\n",
       "  <thead>\n",
       "    <tr style=\"text-align: right;\">\n",
       "      <th></th>\n",
       "      <th>tconst</th>\n",
       "      <th>primary_title</th>\n",
       "      <th>original_title</th>\n",
       "      <th>start_year</th>\n",
       "      <th>runtime_minutes</th>\n",
       "      <th>genres</th>\n",
       "    </tr>\n",
       "  </thead>\n",
       "  <tbody>\n",
       "    <tr>\n",
       "      <th>2</th>\n",
       "      <td>tt0069049</td>\n",
       "      <td>The Other Side of the Wind</td>\n",
       "      <td>The Other Side of the Wind</td>\n",
       "      <td>2018</td>\n",
       "      <td>122.0</td>\n",
       "      <td>Drama</td>\n",
       "    </tr>\n",
       "    <tr>\n",
       "      <th>3</th>\n",
       "      <td>tt0069204</td>\n",
       "      <td>Sabse Bada Sukh</td>\n",
       "      <td>Sabse Bada Sukh</td>\n",
       "      <td>2018</td>\n",
       "      <td>NaN</td>\n",
       "      <td>Comedy,Drama</td>\n",
       "    </tr>\n",
       "    <tr>\n",
       "      <th>4</th>\n",
       "      <td>tt0100275</td>\n",
       "      <td>The Wandering Soap Opera</td>\n",
       "      <td>La Telenovela Errante</td>\n",
       "      <td>2017</td>\n",
       "      <td>80.0</td>\n",
       "      <td>Comedy,Drama,Fantasy</td>\n",
       "    </tr>\n",
       "    <tr>\n",
       "      <th>5</th>\n",
       "      <td>tt0111414</td>\n",
       "      <td>A Thin Life</td>\n",
       "      <td>A Thin Life</td>\n",
       "      <td>2018</td>\n",
       "      <td>75.0</td>\n",
       "      <td>Comedy</td>\n",
       "    </tr>\n",
       "    <tr>\n",
       "      <th>6</th>\n",
       "      <td>tt0112502</td>\n",
       "      <td>Bigfoot</td>\n",
       "      <td>Bigfoot</td>\n",
       "      <td>2017</td>\n",
       "      <td>NaN</td>\n",
       "      <td>Horror,Thriller</td>\n",
       "    </tr>\n",
       "    <tr>\n",
       "      <th>7</th>\n",
       "      <td>tt0137204</td>\n",
       "      <td>Joe Finds Grace</td>\n",
       "      <td>Joe Finds Grace</td>\n",
       "      <td>2017</td>\n",
       "      <td>83.0</td>\n",
       "      <td>Adventure,Animation,Comedy</td>\n",
       "    </tr>\n",
       "    <tr>\n",
       "      <th>14</th>\n",
       "      <td>tt0170651</td>\n",
       "      <td>T.G.M. - osvoboditel</td>\n",
       "      <td>T.G.M. - osvoboditel</td>\n",
       "      <td>2018</td>\n",
       "      <td>60.0</td>\n",
       "      <td>Documentary</td>\n",
       "    </tr>\n",
       "    <tr>\n",
       "      <th>17</th>\n",
       "      <td>tt0192528</td>\n",
       "      <td>Heaven &amp; Hell</td>\n",
       "      <td>Reverse Heaven</td>\n",
       "      <td>2018</td>\n",
       "      <td>104.0</td>\n",
       "      <td>Drama</td>\n",
       "    </tr>\n",
       "    <tr>\n",
       "      <th>22</th>\n",
       "      <td>tt0253093</td>\n",
       "      <td>Gangavataran</td>\n",
       "      <td>Gangavataran</td>\n",
       "      <td>2018</td>\n",
       "      <td>134.0</td>\n",
       "      <td>NaN</td>\n",
       "    </tr>\n",
       "    <tr>\n",
       "      <th>25</th>\n",
       "      <td>tt0262759</td>\n",
       "      <td>Seven Jews from My Class</td>\n",
       "      <td>Siedmiu Zydów z mojej klasy</td>\n",
       "      <td>2018</td>\n",
       "      <td>40.0</td>\n",
       "      <td>Documentary</td>\n",
       "    </tr>\n",
       "  </tbody>\n",
       "</table>\n",
       "</div>"
      ],
      "text/plain": [
       "       tconst               primary_title               original_title  \\\n",
       "2   tt0069049  The Other Side of the Wind   The Other Side of the Wind   \n",
       "3   tt0069204             Sabse Bada Sukh              Sabse Bada Sukh   \n",
       "4   tt0100275    The Wandering Soap Opera        La Telenovela Errante   \n",
       "5   tt0111414                 A Thin Life                  A Thin Life   \n",
       "6   tt0112502                     Bigfoot                      Bigfoot   \n",
       "7   tt0137204             Joe Finds Grace              Joe Finds Grace   \n",
       "14  tt0170651        T.G.M. - osvoboditel         T.G.M. - osvoboditel   \n",
       "17  tt0192528               Heaven & Hell               Reverse Heaven   \n",
       "22  tt0253093                Gangavataran                 Gangavataran   \n",
       "25  tt0262759    Seven Jews from My Class  Siedmiu Zydów z mojej klasy   \n",
       "\n",
       "    start_year  runtime_minutes                      genres  \n",
       "2         2018            122.0                       Drama  \n",
       "3         2018              NaN                Comedy,Drama  \n",
       "4         2017             80.0        Comedy,Drama,Fantasy  \n",
       "5         2018             75.0                      Comedy  \n",
       "6         2017              NaN             Horror,Thriller  \n",
       "7         2017             83.0  Adventure,Animation,Comedy  \n",
       "14        2018             60.0                 Documentary  \n",
       "17        2018            104.0                       Drama  \n",
       "22        2018            134.0                         NaN  \n",
       "25        2018             40.0                 Documentary  "
      ]
     },
     "execution_count": 1170,
     "metadata": {},
     "output_type": "execute_result"
    }
   ],
   "source": [
    "title2.head(10)"
   ]
  },
  {
   "cell_type": "raw",
   "metadata": {},
   "source": [
    "• data descriptions •\n",
    "\n",
    "title.basics.tsv.gz (title) - Contains the following information for titles:\n",
    "\n",
    "tconst (string) - alphanumeric unique identifier of the title\n",
    "primaryTitle (string) – the more popular title / the title used by the filmmakers on promotional materials at the point of release\n",
    "originalTitle (string) - original title, in the original language\n",
    "startYear (YYYY) – represents the release year of a title. In the case of TV Series, it is the series start year\n",
    "runtimeMinutes – primary runtime of the title, in minutes\n",
    "genres (string array) – includes up to three genres associated with the title\n",
    "\n",
    "\n",
    "\n",
    "– it appears that **title.basics** gets us the vital statistics of the movie\n",
    "– the **title.basics** original_title col might match up with the **akas** title col\n",
    "– might be overlap with original_title/*akas*title cols\n"
   ]
  },
  {
   "cell_type": "code",
   "execution_count": 1138,
   "metadata": {
    "scrolled": true
   },
   "outputs": [
    {
     "data": {
      "text/html": [
       "<div>\n",
       "<style scoped>\n",
       "    .dataframe tbody tr th:only-of-type {\n",
       "        vertical-align: middle;\n",
       "    }\n",
       "\n",
       "    .dataframe tbody tr th {\n",
       "        vertical-align: top;\n",
       "    }\n",
       "\n",
       "    .dataframe thead th {\n",
       "        text-align: right;\n",
       "    }\n",
       "</style>\n",
       "<table border=\"1\" class=\"dataframe\">\n",
       "  <thead>\n",
       "    <tr style=\"text-align: right;\">\n",
       "      <th></th>\n",
       "      <th>tconst</th>\n",
       "      <th>ordering</th>\n",
       "      <th>title</th>\n",
       "      <th>region</th>\n",
       "      <th>language</th>\n",
       "      <th>types</th>\n",
       "      <th>attributes</th>\n",
       "      <th>is_original_title</th>\n",
       "    </tr>\n",
       "  </thead>\n",
       "  <tbody>\n",
       "    <tr>\n",
       "      <th>48</th>\n",
       "      <td>tt0381957</td>\n",
       "      <td>1</td>\n",
       "      <td>Cloud Cuckoo Land</td>\n",
       "      <td>GB</td>\n",
       "      <td>NaN</td>\n",
       "      <td>NaN</td>\n",
       "      <td>NaN</td>\n",
       "      <td>0.0</td>\n",
       "    </tr>\n",
       "    <tr>\n",
       "      <th>49</th>\n",
       "      <td>tt0401729</td>\n",
       "      <td>10</td>\n",
       "      <td>Джон Картер: Мiж двох свiтiв</td>\n",
       "      <td>UA</td>\n",
       "      <td>NaN</td>\n",
       "      <td>NaN</td>\n",
       "      <td>NaN</td>\n",
       "      <td>0.0</td>\n",
       "    </tr>\n",
       "    <tr>\n",
       "      <th>50</th>\n",
       "      <td>tt0401729</td>\n",
       "      <td>11</td>\n",
       "      <td>John Carter of Mars</td>\n",
       "      <td>US</td>\n",
       "      <td>NaN</td>\n",
       "      <td>working</td>\n",
       "      <td>NaN</td>\n",
       "      <td>0.0</td>\n",
       "    </tr>\n",
       "    <tr>\n",
       "      <th>51</th>\n",
       "      <td>tt0401729</td>\n",
       "      <td>12</td>\n",
       "      <td>A Princess of Mars</td>\n",
       "      <td>US</td>\n",
       "      <td>NaN</td>\n",
       "      <td>working</td>\n",
       "      <td>NaN</td>\n",
       "      <td>0.0</td>\n",
       "    </tr>\n",
       "    <tr>\n",
       "      <th>52</th>\n",
       "      <td>tt0401729</td>\n",
       "      <td>13</td>\n",
       "      <td>John Carter - Entre dos mundos</td>\n",
       "      <td>AR</td>\n",
       "      <td>NaN</td>\n",
       "      <td>imdbDisplay</td>\n",
       "      <td>NaN</td>\n",
       "      <td>0.0</td>\n",
       "    </tr>\n",
       "    <tr>\n",
       "      <th>53</th>\n",
       "      <td>tt0401729</td>\n",
       "      <td>14</td>\n",
       "      <td>John Carter Maaveeran</td>\n",
       "      <td>IN</td>\n",
       "      <td>ta</td>\n",
       "      <td>NaN</td>\n",
       "      <td>dubbed version</td>\n",
       "      <td>0.0</td>\n",
       "    </tr>\n",
       "    <tr>\n",
       "      <th>54</th>\n",
       "      <td>tt0401729</td>\n",
       "      <td>15</td>\n",
       "      <td>Džonas Karteris</td>\n",
       "      <td>LT</td>\n",
       "      <td>NaN</td>\n",
       "      <td>NaN</td>\n",
       "      <td>NaN</td>\n",
       "      <td>0.0</td>\n",
       "    </tr>\n",
       "    <tr>\n",
       "      <th>55</th>\n",
       "      <td>tt0401729</td>\n",
       "      <td>16</td>\n",
       "      <td>John Carter</td>\n",
       "      <td>PT</td>\n",
       "      <td>NaN</td>\n",
       "      <td>imdbDisplay</td>\n",
       "      <td>NaN</td>\n",
       "      <td>0.0</td>\n",
       "    </tr>\n",
       "    <tr>\n",
       "      <th>56</th>\n",
       "      <td>tt0401729</td>\n",
       "      <td>17</td>\n",
       "      <td>John Carter: Mezi dvěma světy</td>\n",
       "      <td>CZ</td>\n",
       "      <td>NaN</td>\n",
       "      <td>NaN</td>\n",
       "      <td>NaN</td>\n",
       "      <td>0.0</td>\n",
       "    </tr>\n",
       "    <tr>\n",
       "      <th>57</th>\n",
       "      <td>tt0401729</td>\n",
       "      <td>18</td>\n",
       "      <td>John Carter: Ανάμεσα σε δύο κόσμους</td>\n",
       "      <td>GR</td>\n",
       "      <td>NaN</td>\n",
       "      <td>NaN</td>\n",
       "      <td>NaN</td>\n",
       "      <td>0.0</td>\n",
       "    </tr>\n",
       "  </tbody>\n",
       "</table>\n",
       "</div>"
      ],
      "text/plain": [
       "       tconst  ordering                                title region language  \\\n",
       "48  tt0381957         1                    Cloud Cuckoo Land     GB      NaN   \n",
       "49  tt0401729        10         Джон Картер: Мiж двох свiтiв     UA      NaN   \n",
       "50  tt0401729        11                  John Carter of Mars     US      NaN   \n",
       "51  tt0401729        12                   A Princess of Mars     US      NaN   \n",
       "52  tt0401729        13       John Carter - Entre dos mundos     AR      NaN   \n",
       "53  tt0401729        14                John Carter Maaveeran     IN       ta   \n",
       "54  tt0401729        15                      Džonas Karteris     LT      NaN   \n",
       "55  tt0401729        16                          John Carter     PT      NaN   \n",
       "56  tt0401729        17        John Carter: Mezi dvěma světy     CZ      NaN   \n",
       "57  tt0401729        18  John Carter: Ανάμεσα σε δύο κόσμους     GR      NaN   \n",
       "\n",
       "          types      attributes  is_original_title  \n",
       "48          NaN             NaN                0.0  \n",
       "49          NaN             NaN                0.0  \n",
       "50      working             NaN                0.0  \n",
       "51      working             NaN                0.0  \n",
       "52  imdbDisplay             NaN                0.0  \n",
       "53          NaN  dubbed version                0.0  \n",
       "54          NaN             NaN                0.0  \n",
       "55  imdbDisplay             NaN                0.0  \n",
       "56          NaN             NaN                0.0  \n",
       "57          NaN             NaN                0.0  "
      ]
     },
     "execution_count": 1138,
     "metadata": {},
     "output_type": "execute_result"
    }
   ],
   "source": [
    "akas2.head(10)"
   ]
  },
  {
   "cell_type": "raw",
   "metadata": {},
   "source": [
    "• data descriptions •\n",
    "\n",
    "title.akas.cvs.gz (akas) - Contains the following information for titles:\n",
    "\n",
    "*titleId* (changed to *tconst* by Nate) (string) - a tconst, an alphanumeric unique identifier of the title\n",
    "ordering (integer) – a number to uniquely identify rows for a given titleId\n",
    "title (string) – the localized title\n",
    "region (string) - the region for this version of the title\n",
    "language (string) - the language of the title\n",
    "types (array) - Enumerated set of attributes for this alternative title. One or more of the following: \"alternative\", \"dvd\", \"festival\", \"tv\", \"video\", \"working\", \"original\", \"imdbDisplay\". New values may be added in the future without warning\n",
    "attributes (array) - Additional terms to describe this alternative title, not enumerated\n",
    "isOriginalTitle (boolean) – 0: not original title; 1: original title\n",
    "\n",
    "\n",
    "\n",
    "– It appears that what we'll find in **akas** is the names of movies in other languages\n",
    "– change is_original_title from float to int"
   ]
  },
  {
   "cell_type": "code",
   "execution_count": 1139,
   "metadata": {
    "scrolled": true
   },
   "outputs": [
    {
     "data": {
      "text/html": [
       "<div>\n",
       "<style scoped>\n",
       "    .dataframe tbody tr th:only-of-type {\n",
       "        vertical-align: middle;\n",
       "    }\n",
       "\n",
       "    .dataframe tbody tr th {\n",
       "        vertical-align: top;\n",
       "    }\n",
       "\n",
       "    .dataframe thead th {\n",
       "        text-align: right;\n",
       "    }\n",
       "</style>\n",
       "<table border=\"1\" class=\"dataframe\">\n",
       "  <thead>\n",
       "    <tr style=\"text-align: right;\">\n",
       "      <th></th>\n",
       "      <th>nconst</th>\n",
       "      <th>primary_name</th>\n",
       "      <th>known_for_titles</th>\n",
       "      <th>primary_profession</th>\n",
       "    </tr>\n",
       "  </thead>\n",
       "  <tbody>\n",
       "    <tr>\n",
       "      <th>2</th>\n",
       "      <td>nm0062070</td>\n",
       "      <td>Bruce Baum</td>\n",
       "      <td>tt1470654,tt0363631,tt0104030,tt0102898</td>\n",
       "      <td>writer</td>\n",
       "    </tr>\n",
       "    <tr>\n",
       "      <th>5</th>\n",
       "      <td>nm0062879</td>\n",
       "      <td>Ruel S. Bayani</td>\n",
       "      <td>tt2590280,tt0352080,tt0216559,tt2057445</td>\n",
       "      <td>director</td>\n",
       "    </tr>\n",
       "    <tr>\n",
       "      <th>10</th>\n",
       "      <td>nm0064023</td>\n",
       "      <td>Bryan Beasley</td>\n",
       "      <td>tt3501180,tt1485100,tt1358897,tt1387162</td>\n",
       "      <td>director,writer</td>\n",
       "    </tr>\n",
       "    <tr>\n",
       "      <th>12</th>\n",
       "      <td>nm0065847</td>\n",
       "      <td>Michael Frost Beckner</td>\n",
       "      <td>tt0108171,tt0095953,tt0266987,tt0285332</td>\n",
       "      <td>writer</td>\n",
       "    </tr>\n",
       "    <tr>\n",
       "      <th>15</th>\n",
       "      <td>nm0066163</td>\n",
       "      <td>Arnaud Bedouët</td>\n",
       "      <td>tt1355327,tt1977735,tt0173525,tt1710520</td>\n",
       "      <td>writer,director</td>\n",
       "    </tr>\n",
       "    <tr>\n",
       "      <th>16</th>\n",
       "      <td>nm0066268</td>\n",
       "      <td>Steve Mitchell Beebe</td>\n",
       "      <td>tt0827928,tt0119961,tt0408417,tt5521860</td>\n",
       "      <td>director</td>\n",
       "    </tr>\n",
       "    <tr>\n",
       "      <th>18</th>\n",
       "      <td>nm0067234</td>\n",
       "      <td>Hans Beimler</td>\n",
       "      <td>tt0486657,tt0092455,tt0091129,tt0106145</td>\n",
       "      <td>writer</td>\n",
       "    </tr>\n",
       "    <tr>\n",
       "      <th>21</th>\n",
       "      <td>nm0068170</td>\n",
       "      <td>Dylan Bell</td>\n",
       "      <td>tt4655766,tt3180116,tt8170168,tt4082762</td>\n",
       "      <td>director</td>\n",
       "    </tr>\n",
       "    <tr>\n",
       "      <th>23</th>\n",
       "      <td>nm0068874</td>\n",
       "      <td>Hava Kohav Beller</td>\n",
       "      <td>tt0102778,tt7701650,tt0350668</td>\n",
       "      <td>director,writer</td>\n",
       "    </tr>\n",
       "    <tr>\n",
       "      <th>30</th>\n",
       "      <td>nm0070482</td>\n",
       "      <td>Joel Bender</td>\n",
       "      <td>tt1454573,tt0077597,tt4637900,tt0424938</td>\n",
       "      <td>director,writer</td>\n",
       "    </tr>\n",
       "  </tbody>\n",
       "</table>\n",
       "</div>"
      ],
      "text/plain": [
       "       nconst           primary_name                         known_for_titles  \\\n",
       "2   nm0062070             Bruce Baum  tt1470654,tt0363631,tt0104030,tt0102898   \n",
       "5   nm0062879         Ruel S. Bayani  tt2590280,tt0352080,tt0216559,tt2057445   \n",
       "10  nm0064023          Bryan Beasley  tt3501180,tt1485100,tt1358897,tt1387162   \n",
       "12  nm0065847  Michael Frost Beckner  tt0108171,tt0095953,tt0266987,tt0285332   \n",
       "15  nm0066163         Arnaud Bedouët  tt1355327,tt1977735,tt0173525,tt1710520   \n",
       "16  nm0066268   Steve Mitchell Beebe  tt0827928,tt0119961,tt0408417,tt5521860   \n",
       "18  nm0067234           Hans Beimler  tt0486657,tt0092455,tt0091129,tt0106145   \n",
       "21  nm0068170             Dylan Bell  tt4655766,tt3180116,tt8170168,tt4082762   \n",
       "23  nm0068874      Hava Kohav Beller            tt0102778,tt7701650,tt0350668   \n",
       "30  nm0070482            Joel Bender  tt1454573,tt0077597,tt4637900,tt0424938   \n",
       "\n",
       "   primary_profession  \n",
       "2              writer  \n",
       "5            director  \n",
       "10    director,writer  \n",
       "12             writer  \n",
       "15    writer,director  \n",
       "16           director  \n",
       "18             writer  \n",
       "21           director  \n",
       "23    director,writer  \n",
       "30    director,writer  "
      ]
     },
     "execution_count": 1139,
     "metadata": {},
     "output_type": "execute_result"
    }
   ],
   "source": [
    "names2.head(10)"
   ]
  },
  {
   "cell_type": "raw",
   "metadata": {},
   "source": [
    "• data descriptions •\n",
    "\n",
    "name.basics.tsv.gz  (names) – Contains the following information for names:\n",
    "\n",
    "nconst (string) - alphanumeric unique identifier of the name/person\n",
    "primaryName (string)– name by which the person is most often credited\n",
    "birthYear – in YYYY format\n",
    "primaryProfession (array of strings)– the top-3 professions of the person\n",
    "knownForTitles (array of tconsts) – titles the person is known for\n",
    "\n",
    "\n",
    "nmconst = str\n"
   ]
  },
  {
   "cell_type": "markdown",
   "metadata": {},
   "source": [
    "Here we have a list of strings representing\n",
    "all the professions in primary_profession we can choose from this list and apply any names \n",
    "we wish to **\"get rid of any professional except\n",
    "writers and directors.. code in the cell above\"**\n",
    "this will return rows with only *producer*, for example.\n",
    "Then we can correlate the producers with the highest \n",
    "grossing films from 2018 (or any other year) by connecting tconst\n",
    "and (example) nm0001011, symbolizing director and witers, from Manav's crew df \n",
    "then secure their employment for the making of our first movies."
   ]
  },
  {
   "cell_type": "code",
   "execution_count": 1141,
   "metadata": {},
   "outputs": [
    {
     "data": {
      "text/html": [
       "<div>\n",
       "<style scoped>\n",
       "    .dataframe tbody tr th:only-of-type {\n",
       "        vertical-align: middle;\n",
       "    }\n",
       "\n",
       "    .dataframe tbody tr th {\n",
       "        vertical-align: top;\n",
       "    }\n",
       "\n",
       "    .dataframe thead th {\n",
       "        text-align: right;\n",
       "    }\n",
       "</style>\n",
       "<table border=\"1\" class=\"dataframe\">\n",
       "  <thead>\n",
       "    <tr style=\"text-align: right;\">\n",
       "      <th></th>\n",
       "      <th>tconst</th>\n",
       "      <th>directors</th>\n",
       "      <th>writers</th>\n",
       "    </tr>\n",
       "  </thead>\n",
       "  <tbody>\n",
       "    <tr>\n",
       "      <th>0</th>\n",
       "      <td>tt0285252</td>\n",
       "      <td>nm0899854</td>\n",
       "      <td>nm0899854</td>\n",
       "    </tr>\n",
       "    <tr>\n",
       "      <th>1</th>\n",
       "      <td>tt0438973</td>\n",
       "      <td>NaN</td>\n",
       "      <td>nm0175726,nm1802864</td>\n",
       "    </tr>\n",
       "    <tr>\n",
       "      <th>2</th>\n",
       "      <td>tt0462036</td>\n",
       "      <td>nm1940585</td>\n",
       "      <td>nm1940585</td>\n",
       "    </tr>\n",
       "    <tr>\n",
       "      <th>3</th>\n",
       "      <td>tt0835418</td>\n",
       "      <td>nm0151540</td>\n",
       "      <td>nm0310087,nm0841532</td>\n",
       "    </tr>\n",
       "    <tr>\n",
       "      <th>4</th>\n",
       "      <td>tt0878654</td>\n",
       "      <td>nm0089502,nm2291498,nm2292011</td>\n",
       "      <td>nm0284943</td>\n",
       "    </tr>\n",
       "  </tbody>\n",
       "</table>\n",
       "</div>"
      ],
      "text/plain": [
       "      tconst                      directors              writers\n",
       "0  tt0285252                      nm0899854            nm0899854\n",
       "1  tt0438973                            NaN  nm0175726,nm1802864\n",
       "2  tt0462036                      nm1940585            nm1940585\n",
       "3  tt0835418                      nm0151540  nm0310087,nm0841532\n",
       "4  tt0878654  nm0089502,nm2291498,nm2292011            nm0284943"
      ]
     },
     "execution_count": 1141,
     "metadata": {},
     "output_type": "execute_result"
    }
   ],
   "source": [
    "# manav's imdb df with numbers and letters pointing to crew\n",
    "crew.head(5)"
   ]
  },
  {
   "cell_type": "raw",
   "metadata": {},
   "source": [
    "title.crew.tsv.gz (crew) – Contains the director and writer information for all the titles in IMDb. Fields include:\n",
    "\n",
    "tconst (string) - alphanumeric unique identifier of the title\n",
    "directors (array of nconsts) - director(s) of the given title\n",
    "writers (array of nconsts) – writer(s) of the given title\n",
    "\n",
    "\n",
    "\n",
    "– the **crew** df gets us the writer and director cols\n",
    "– some investigating has to be done on what the letters and numbers in each record point to (i.e. the director's name)\n",
    "– ?what is tconst?"
   ]
  },
  {
   "cell_type": "markdown",
   "metadata": {},
   "source": [
    "## data frames .info( )"
   ]
  },
  {
   "cell_type": "code",
   "execution_count": 1142,
   "metadata": {},
   "outputs": [
    {
     "name": "stdout",
     "output_type": "stream",
     "text": [
      "<class 'pandas.core.frame.DataFrame'>\n",
      "Int64Index: 67868 entries, 2 to 146142\n",
      "Data columns (total 6 columns):\n",
      " #   Column           Non-Null Count  Dtype  \n",
      "---  ------           --------------  -----  \n",
      " 0   tconst           67868 non-null  object \n",
      " 1   primary_title    67868 non-null  object \n",
      " 2   original_title   67851 non-null  object \n",
      " 3   start_year       67868 non-null  int64  \n",
      " 4   runtime_minutes  52445 non-null  float64\n",
      " 5   genres           65031 non-null  object \n",
      "dtypes: float64(1), int64(1), object(4)\n",
      "memory usage: 3.6+ MB\n"
     ]
    }
   ],
   "source": [
    "title2.info()"
   ]
  },
  {
   "cell_type": "markdown",
   "metadata": {},
   "source": [
    "drop all but North America regions?"
   ]
  },
  {
   "cell_type": "code",
   "execution_count": 1143,
   "metadata": {},
   "outputs": [
    {
     "name": "stdout",
     "output_type": "stream",
     "text": [
      "<class 'pandas.core.frame.DataFrame'>\n",
      "Int64Index: 187981 entries, 48 to 331702\n",
      "Data columns (total 8 columns):\n",
      " #   Column             Non-Null Count   Dtype  \n",
      "---  ------             --------------   -----  \n",
      " 0   tconst             187981 non-null  object \n",
      " 1   ordering           187981 non-null  int64  \n",
      " 2   title              187981 non-null  object \n",
      " 3   region             160848 non-null  object \n",
      " 4   language           24061 non-null   object \n",
      " 5   types              94185 non-null   object \n",
      " 6   attributes         8177 non-null    object \n",
      " 7   is_original_title  187969 non-null  float64\n",
      "dtypes: float64(1), int64(1), object(6)\n",
      "memory usage: 12.9+ MB\n"
     ]
    }
   ],
   "source": [
    "akas2.info()"
   ]
  },
  {
   "cell_type": "markdown",
   "metadata": {},
   "source": [
    "are they dead (if name in death_year, don't return name)?"
   ]
  },
  {
   "cell_type": "code",
   "execution_count": 1144,
   "metadata": {},
   "outputs": [
    {
     "name": "stdout",
     "output_type": "stream",
     "text": [
      "<class 'pandas.core.frame.DataFrame'>\n",
      "Int64Index: 195828 entries, 2 to 599864\n",
      "Data columns (total 4 columns):\n",
      " #   Column              Non-Null Count   Dtype \n",
      "---  ------              --------------   ----- \n",
      " 0   nconst              195828 non-null  object\n",
      " 1   primary_name        195828 non-null  object\n",
      " 2   known_for_titles    189865 non-null  object\n",
      " 3   primary_profession  195828 non-null  object\n",
      "dtypes: object(4)\n",
      "memory usage: 7.5+ MB\n"
     ]
    }
   ],
   "source": [
    "names2.info()"
   ]
  },
  {
   "cell_type": "code",
   "execution_count": 1145,
   "metadata": {},
   "outputs": [
    {
     "name": "stdout",
     "output_type": "stream",
     "text": [
      "<class 'pandas.core.frame.DataFrame'>\n",
      "RangeIndex: 146144 entries, 0 to 146143\n",
      "Data columns (total 3 columns):\n",
      " #   Column     Non-Null Count   Dtype \n",
      "---  ------     --------------   ----- \n",
      " 0   tconst     146144 non-null  object\n",
      " 1   directors  140417 non-null  object\n",
      " 2   writers    110261 non-null  object\n",
      "dtypes: object(3)\n",
      "memory usage: 3.3+ MB\n"
     ]
    }
   ],
   "source": [
    "crew2.info()"
   ]
  },
  {
   "cell_type": "code",
   "execution_count": 1146,
   "metadata": {},
   "outputs": [
    {
     "data": {
      "text/html": [
       "<div>\n",
       "<style scoped>\n",
       "    .dataframe tbody tr th:only-of-type {\n",
       "        vertical-align: middle;\n",
       "    }\n",
       "\n",
       "    .dataframe tbody tr th {\n",
       "        vertical-align: top;\n",
       "    }\n",
       "\n",
       "    .dataframe thead th {\n",
       "        text-align: right;\n",
       "    }\n",
       "</style>\n",
       "<table border=\"1\" class=\"dataframe\">\n",
       "  <thead>\n",
       "    <tr style=\"text-align: right;\">\n",
       "      <th></th>\n",
       "      <th>tconst</th>\n",
       "      <th>directors</th>\n",
       "      <th>writers</th>\n",
       "    </tr>\n",
       "  </thead>\n",
       "  <tbody>\n",
       "    <tr>\n",
       "      <th>0</th>\n",
       "      <td>tt0285252</td>\n",
       "      <td>nm0899854</td>\n",
       "      <td>nm0899854</td>\n",
       "    </tr>\n",
       "    <tr>\n",
       "      <th>1</th>\n",
       "      <td>tt0438973</td>\n",
       "      <td>NaN</td>\n",
       "      <td>nm0175726,nm1802864</td>\n",
       "    </tr>\n",
       "    <tr>\n",
       "      <th>2</th>\n",
       "      <td>tt0462036</td>\n",
       "      <td>nm1940585</td>\n",
       "      <td>nm1940585</td>\n",
       "    </tr>\n",
       "    <tr>\n",
       "      <th>3</th>\n",
       "      <td>tt0835418</td>\n",
       "      <td>nm0151540</td>\n",
       "      <td>nm0310087,nm0841532</td>\n",
       "    </tr>\n",
       "    <tr>\n",
       "      <th>4</th>\n",
       "      <td>tt0878654</td>\n",
       "      <td>nm0089502,nm2291498,nm2292011</td>\n",
       "      <td>nm0284943</td>\n",
       "    </tr>\n",
       "  </tbody>\n",
       "</table>\n",
       "</div>"
      ],
      "text/plain": [
       "      tconst                      directors              writers\n",
       "0  tt0285252                      nm0899854            nm0899854\n",
       "1  tt0438973                            NaN  nm0175726,nm1802864\n",
       "2  tt0462036                      nm1940585            nm1940585\n",
       "3  tt0835418                      nm0151540  nm0310087,nm0841532\n",
       "4  tt0878654  nm0089502,nm2291498,nm2292011            nm0284943"
      ]
     },
     "execution_count": 1146,
     "metadata": {},
     "output_type": "execute_result"
    }
   ],
   "source": [
    "crew2.head()"
   ]
  },
  {
   "cell_type": "markdown",
   "metadata": {},
   "source": [
    "## dataframes .describe( )"
   ]
  },
  {
   "cell_type": "code",
   "execution_count": 1147,
   "metadata": {},
   "outputs": [
    {
     "data": {
      "text/html": [
       "<div>\n",
       "<style scoped>\n",
       "    .dataframe tbody tr th:only-of-type {\n",
       "        vertical-align: middle;\n",
       "    }\n",
       "\n",
       "    .dataframe tbody tr th {\n",
       "        vertical-align: top;\n",
       "    }\n",
       "\n",
       "    .dataframe thead th {\n",
       "        text-align: right;\n",
       "    }\n",
       "</style>\n",
       "<table border=\"1\" class=\"dataframe\">\n",
       "  <thead>\n",
       "    <tr style=\"text-align: right;\">\n",
       "      <th></th>\n",
       "      <th>start_year</th>\n",
       "      <th>runtime_minutes</th>\n",
       "    </tr>\n",
       "  </thead>\n",
       "  <tbody>\n",
       "    <tr>\n",
       "      <th>count</th>\n",
       "      <td>67868.000000</td>\n",
       "      <td>52445.000000</td>\n",
       "    </tr>\n",
       "    <tr>\n",
       "      <th>mean</th>\n",
       "      <td>2016.515103</td>\n",
       "      <td>85.903937</td>\n",
       "    </tr>\n",
       "    <tr>\n",
       "      <th>std</th>\n",
       "      <td>1.106787</td>\n",
       "      <td>60.623925</td>\n",
       "    </tr>\n",
       "    <tr>\n",
       "      <th>min</th>\n",
       "      <td>2015.000000</td>\n",
       "      <td>1.000000</td>\n",
       "    </tr>\n",
       "    <tr>\n",
       "      <th>25%</th>\n",
       "      <td>2016.000000</td>\n",
       "      <td>70.000000</td>\n",
       "    </tr>\n",
       "    <tr>\n",
       "      <th>50%</th>\n",
       "      <td>2017.000000</td>\n",
       "      <td>87.000000</td>\n",
       "    </tr>\n",
       "    <tr>\n",
       "      <th>75%</th>\n",
       "      <td>2017.000000</td>\n",
       "      <td>100.000000</td>\n",
       "    </tr>\n",
       "    <tr>\n",
       "      <th>max</th>\n",
       "      <td>2018.000000</td>\n",
       "      <td>6017.000000</td>\n",
       "    </tr>\n",
       "  </tbody>\n",
       "</table>\n",
       "</div>"
      ],
      "text/plain": [
       "         start_year  runtime_minutes\n",
       "count  67868.000000     52445.000000\n",
       "mean    2016.515103        85.903937\n",
       "std        1.106787        60.623925\n",
       "min     2015.000000         1.000000\n",
       "25%     2016.000000        70.000000\n",
       "50%     2017.000000        87.000000\n",
       "75%     2017.000000       100.000000\n",
       "max     2018.000000      6017.000000"
      ]
     },
     "execution_count": 1147,
     "metadata": {},
     "output_type": "execute_result"
    }
   ],
   "source": [
    "title2.describe()"
   ]
  },
  {
   "cell_type": "code",
   "execution_count": 1148,
   "metadata": {},
   "outputs": [
    {
     "data": {
      "text/html": [
       "<div>\n",
       "<style scoped>\n",
       "    .dataframe tbody tr th:only-of-type {\n",
       "        vertical-align: middle;\n",
       "    }\n",
       "\n",
       "    .dataframe tbody tr th {\n",
       "        vertical-align: top;\n",
       "    }\n",
       "\n",
       "    .dataframe thead th {\n",
       "        text-align: right;\n",
       "    }\n",
       "</style>\n",
       "<table border=\"1\" class=\"dataframe\">\n",
       "  <thead>\n",
       "    <tr style=\"text-align: right;\">\n",
       "      <th></th>\n",
       "      <th>ordering</th>\n",
       "      <th>is_original_title</th>\n",
       "    </tr>\n",
       "  </thead>\n",
       "  <tbody>\n",
       "    <tr>\n",
       "      <th>count</th>\n",
       "      <td>187981.000000</td>\n",
       "      <td>187969.000000</td>\n",
       "    </tr>\n",
       "    <tr>\n",
       "      <th>mean</th>\n",
       "      <td>5.334151</td>\n",
       "      <td>0.128159</td>\n",
       "    </tr>\n",
       "    <tr>\n",
       "      <th>std</th>\n",
       "      <td>6.963540</td>\n",
       "      <td>0.334268</td>\n",
       "    </tr>\n",
       "    <tr>\n",
       "      <th>min</th>\n",
       "      <td>1.000000</td>\n",
       "      <td>0.000000</td>\n",
       "    </tr>\n",
       "    <tr>\n",
       "      <th>25%</th>\n",
       "      <td>1.000000</td>\n",
       "      <td>0.000000</td>\n",
       "    </tr>\n",
       "    <tr>\n",
       "      <th>50%</th>\n",
       "      <td>3.000000</td>\n",
       "      <td>0.000000</td>\n",
       "    </tr>\n",
       "    <tr>\n",
       "      <th>75%</th>\n",
       "      <td>6.000000</td>\n",
       "      <td>0.000000</td>\n",
       "    </tr>\n",
       "    <tr>\n",
       "      <th>max</th>\n",
       "      <td>55.000000</td>\n",
       "      <td>1.000000</td>\n",
       "    </tr>\n",
       "  </tbody>\n",
       "</table>\n",
       "</div>"
      ],
      "text/plain": [
       "            ordering  is_original_title\n",
       "count  187981.000000      187969.000000\n",
       "mean        5.334151           0.128159\n",
       "std         6.963540           0.334268\n",
       "min         1.000000           0.000000\n",
       "25%         1.000000           0.000000\n",
       "50%         3.000000           0.000000\n",
       "75%         6.000000           0.000000\n",
       "max        55.000000           1.000000"
      ]
     },
     "execution_count": 1148,
     "metadata": {},
     "output_type": "execute_result"
    }
   ],
   "source": [
    "akas2.describe()"
   ]
  },
  {
   "cell_type": "markdown",
   "metadata": {},
   "source": [
    "drop 6783 records of dead writers/directors"
   ]
  },
  {
   "cell_type": "code",
   "execution_count": 1149,
   "metadata": {},
   "outputs": [
    {
     "data": {
      "text/html": [
       "<div>\n",
       "<style scoped>\n",
       "    .dataframe tbody tr th:only-of-type {\n",
       "        vertical-align: middle;\n",
       "    }\n",
       "\n",
       "    .dataframe tbody tr th {\n",
       "        vertical-align: top;\n",
       "    }\n",
       "\n",
       "    .dataframe thead th {\n",
       "        text-align: right;\n",
       "    }\n",
       "</style>\n",
       "<table border=\"1\" class=\"dataframe\">\n",
       "  <thead>\n",
       "    <tr style=\"text-align: right;\">\n",
       "      <th></th>\n",
       "      <th>nconst</th>\n",
       "      <th>primary_name</th>\n",
       "      <th>known_for_titles</th>\n",
       "      <th>primary_profession</th>\n",
       "    </tr>\n",
       "  </thead>\n",
       "  <tbody>\n",
       "    <tr>\n",
       "      <th>count</th>\n",
       "      <td>195828</td>\n",
       "      <td>195828</td>\n",
       "      <td>189865</td>\n",
       "      <td>195828</td>\n",
       "    </tr>\n",
       "    <tr>\n",
       "      <th>unique</th>\n",
       "      <td>195828</td>\n",
       "      <td>190546</td>\n",
       "      <td>182472</td>\n",
       "      <td>4</td>\n",
       "    </tr>\n",
       "    <tr>\n",
       "      <th>top</th>\n",
       "      <td>nm4766135</td>\n",
       "      <td>Mark Williams</td>\n",
       "      <td>tt4773466</td>\n",
       "      <td>writer</td>\n",
       "    </tr>\n",
       "    <tr>\n",
       "      <th>freq</th>\n",
       "      <td>1</td>\n",
       "      <td>8</td>\n",
       "      <td>43</td>\n",
       "      <td>67406</td>\n",
       "    </tr>\n",
       "  </tbody>\n",
       "</table>\n",
       "</div>"
      ],
      "text/plain": [
       "           nconst   primary_name known_for_titles primary_profession\n",
       "count      195828         195828           189865             195828\n",
       "unique     195828         190546           182472                  4\n",
       "top     nm4766135  Mark Williams        tt4773466             writer\n",
       "freq            1              8               43              67406"
      ]
     },
     "execution_count": 1149,
     "metadata": {},
     "output_type": "execute_result"
    }
   ],
   "source": [
    "names2.describe()"
   ]
  },
  {
   "cell_type": "code",
   "execution_count": 1150,
   "metadata": {},
   "outputs": [
    {
     "data": {
      "text/html": [
       "<div>\n",
       "<style scoped>\n",
       "    .dataframe tbody tr th:only-of-type {\n",
       "        vertical-align: middle;\n",
       "    }\n",
       "\n",
       "    .dataframe tbody tr th {\n",
       "        vertical-align: top;\n",
       "    }\n",
       "\n",
       "    .dataframe thead th {\n",
       "        text-align: right;\n",
       "    }\n",
       "</style>\n",
       "<table border=\"1\" class=\"dataframe\">\n",
       "  <thead>\n",
       "    <tr style=\"text-align: right;\">\n",
       "      <th></th>\n",
       "      <th>tconst</th>\n",
       "      <th>directors</th>\n",
       "      <th>writers</th>\n",
       "    </tr>\n",
       "  </thead>\n",
       "  <tbody>\n",
       "    <tr>\n",
       "      <th>count</th>\n",
       "      <td>146144</td>\n",
       "      <td>140417</td>\n",
       "      <td>110261</td>\n",
       "    </tr>\n",
       "    <tr>\n",
       "      <th>unique</th>\n",
       "      <td>146144</td>\n",
       "      <td>98525</td>\n",
       "      <td>91920</td>\n",
       "    </tr>\n",
       "    <tr>\n",
       "      <th>top</th>\n",
       "      <td>tt6492958</td>\n",
       "      <td>nm3266654</td>\n",
       "      <td>nm0000636</td>\n",
       "    </tr>\n",
       "    <tr>\n",
       "      <th>freq</th>\n",
       "      <td>1</td>\n",
       "      <td>62</td>\n",
       "      <td>80</td>\n",
       "    </tr>\n",
       "  </tbody>\n",
       "</table>\n",
       "</div>"
      ],
      "text/plain": [
       "           tconst  directors    writers\n",
       "count      146144     140417     110261\n",
       "unique     146144      98525      91920\n",
       "top     tt6492958  nm3266654  nm0000636\n",
       "freq            1         62         80"
      ]
     },
     "execution_count": 1150,
     "metadata": {},
     "output_type": "execute_result"
    }
   ],
   "source": [
    "crew2.describe()"
   ]
  }
 ],
 "metadata": {
  "kernelspec": {
   "display_name": "Python (learn-env)",
   "language": "python",
   "name": "learn-env"
  },
  "language_info": {
   "codemirror_mode": {
    "name": "ipython",
    "version": 3
   },
   "file_extension": ".py",
   "mimetype": "text/x-python",
   "name": "python",
   "nbconvert_exporter": "python",
   "pygments_lexer": "ipython3",
   "version": "3.8.5"
  }
 },
 "nbformat": 4,
 "nbformat_minor": 4
}
