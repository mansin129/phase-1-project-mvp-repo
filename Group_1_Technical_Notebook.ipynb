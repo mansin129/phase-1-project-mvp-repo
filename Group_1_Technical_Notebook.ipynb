{
 "cells": [
  {
   "cell_type": "markdown",
   "metadata": {},
   "source": [
    "<img src=\"./images/film_strip_img.jpg\">"
   ]
  },
  {
   "cell_type": "markdown",
   "metadata": {},
   "source": [
    "# Recommendations for the New Microsoft Movie Studio\n",
    "\n",
    "Our task is to use data to explore the types of movies that are doing well at the box office, and then make appropriate recommendations to the head of the new studio.  "
   ]
  },
  {
   "cell_type": "code",
   "execution_count": 1,
   "metadata": {},
   "outputs": [],
   "source": [
    "import warnings\n",
    "warnings.filterwarnings(\"ignore\")\n",
    "\n",
    "import pandas as pd\n",
    "import matplotlib.pyplot as plt\n",
    "import seaborn as sns\n",
    "import numpy as np\n",
    "import matplotlib.ticker as ticker\n",
    "from matplotlib.ticker import FuncFormatter\n",
    "import ast\n",
    "from calendar import month_name\n",
    "\n",
    "\n",
    "%matplotlib inline\n",
    "sns.set_context('talk')"
   ]
  },
  {
   "cell_type": "markdown",
   "metadata": {},
   "source": [
    "# Importing the data"
   ]
  },
  {
   "cell_type": "code",
   "execution_count": 2,
   "metadata": {},
   "outputs": [],
   "source": [
    "# Manav's Data\n",
    "imdb_title = pd.read_csv('data/imdb.title.principals.csv.gz')\n",
    "imdb_crew = pd.read_csv('data/imdb.title.crew.csv.gz')\n",
    "rating_1 = pd.read_csv('data/imdb.title.ratings.csv.gz')\n",
    "\n",
    "# Nate's Data\n",
    "title_basics_imdb = pd.read_csv('data/imdb.title.basics.csv.gz')\n",
    "akas_imdb = pd.read_csv('data/imdb.title.akas.csv.gz')\n",
    "name_basics_imdb = pd.read_csv('data/imdb.name.basics.csv.gz')\n",
    "\n",
    "# Nina's Data\n",
    "tn_cleaned = pd.read_csv('data/tn_cleaned.csv')\n",
    "tndb_cleaned = pd.read_csv('data/tmdb_cleaned.csv')\n",
    "cleaned_bom = pd.read_csv('data/cleaned_bom.csv')"
   ]
  },
  {
   "cell_type": "markdown",
   "metadata": {},
   "source": [
    "# Nate's Completed Objectives "
   ]
  },
  {
   "cell_type": "markdown",
   "metadata": {},
   "source": [
    "names2 dataframe removed 6783 filmmakers who have died and will be unable to make our movies \n",
    "\n",
    "will the remaining names2['primary_profession'] column match up to Manav's crew['writer'] and crew['directors'] columns ?\n",
    "\n",
    "names2 split primary_profession to access individual professions in the lists\n",
    "\n",
    "names2 Dropped the now-vacant death_year column\n",
    "\n",
    "names2 df dropped birth_year col\n",
    "\n",
    "Discovered that the values in *title2['tconst']* are the same as the values in *akas2['title_id']*\n",
    "\n",
    "Changed *akas2['title_id']* to *akas['tconst']* to match *title2['tconst'] so we can compare overseas titles and revenue\n",
    "\n",
    "added .gitignore to our phase-1-group-branch (ignore .ipnb)\n",
    "\n",
    "dropped any rows outside of Ben's Box-office range of 2015 - 2018 in title2 (from 146,144; down to 67,868)\n",
    "\n",
    "likewise dropped any rows in akas2 (to 187,981 down from 331,703) not in newly formed title2 with only Ben's years as a range\n",
    "\n",
    "dropped names2 from 606,648 to 599,685 (6,963 filmmakers who are deceased) \n",
    "\n",
    "after successful dropping of any professions other than writer and director in names2 \n",
    "of writer/director, names2 has 195,828 rows\n",
    "\n",
    "Printed out a list of strings representing all unique professions under names2.primary_profession\n",
    "(e.g. producer, director, writer) can add to line of code below to taylor to any of our hiring\n",
    "needs and wants\n",
    "\n"
   ]
  },
  {
   "cell_type": "markdown",
   "metadata": {},
   "source": [
    "## Start of Nate Cleaning Data"
   ]
  },
  {
   "cell_type": "markdown",
   "metadata": {},
   "source": [
    "### making copies of the dataframes for trial and error purposes"
   ]
  },
  {
   "cell_type": "code",
   "execution_count": 3,
   "metadata": {},
   "outputs": [],
   "source": [
    "# making copies of the original dfs to work on \n",
    "\n",
    "title2 = title_basics_imdb.copy(deep=True)\n",
    "title3 = title_basics_imdb.copy(deep=True) # the test df for the test df...nan\n",
    "akas2 = akas_imdb.copy(deep=True)\n",
    "names2 = name_basics_imdb.copy(deep=True)\n",
    "crew2 = imdb_crew.copy(deep=True)"
   ]
  },
  {
   "cell_type": "markdown",
   "metadata": {},
   "source": [
    "## Beginning to clean and alter the data frames"
   ]
  },
  {
   "cell_type": "code",
   "execution_count": 4,
   "metadata": {},
   "outputs": [],
   "source": [
    "# remove all directors from the names2 df that have died\n",
    "names2 = names2.loc[names2['death_year'].isna()].reset_index(drop=True)"
   ]
  },
  {
   "cell_type": "code",
   "execution_count": 5,
   "metadata": {},
   "outputs": [],
   "source": [
    "# dropped the now-vacant death_year column\n",
    "names2.drop(['death_year'], axis = 1, inplace=True)\n",
    "# also dropping the birth_year column\n",
    "names2.drop(['birth_year'], axis=1, inplace=True)"
   ]
  },
  {
   "cell_type": "markdown",
   "metadata": {},
   "source": [
    "reasigning the name of the first column in akas2 from title_id to tconst\n",
    "so title2 and akas2 can be compared more readily"
   ]
  },
  {
   "cell_type": "code",
   "execution_count": 6,
   "metadata": {},
   "outputs": [],
   "source": [
    "akas2.rename(columns = {'title_id':'tconst'}, inplace = True)"
   ]
  },
  {
   "cell_type": "code",
   "execution_count": 7,
   "metadata": {},
   "outputs": [],
   "source": [
    "# getting rid of any rows outside of Ben's Box-Office dates range of 2015 - 2018\n",
    "title2 = title2.loc[(title2['start_year'] >= 2015) & (title2['start_year'] <= 2018)]\n",
    "#title2\n",
    "# that looks good. Now let's make sure akas2 matches those years\n",
    "#len(title2)"
   ]
  },
  {
   "cell_type": "markdown",
   "metadata": {},
   "source": [
    "if akas2['tconst'] not in title2['tconst'] with Ben's range of years, drop those rows in skas2['tconst']\n",
    "something like:  if akas2['tconst'] not in title2['tconst'] drop akas2['tconst']"
   ]
  },
  {
   "cell_type": "code",
   "execution_count": 8,
   "metadata": {},
   "outputs": [],
   "source": [
    "common = akas2.merge(title2, on=[\"tconst\"])\n",
    "akas2 = result = akas2[~akas2.tconst.isin(common.tconst)]\n",
    "#len(akas2)"
   ]
  },
  {
   "cell_type": "markdown",
   "metadata": {},
   "source": [
    "in the above cellthe reason that akas2 has more rows is that \n",
    "there are multiple titles in several different\n",
    "languages, sharing the same tconst label. \n",
    "There are, however, no tconst in akas2 \n",
    "that are not in title2 and vise versa."
   ]
  },
  {
   "cell_type": "markdown",
   "metadata": {},
   "source": [
    "steps toward achieving ***first normal form***"
   ]
  },
  {
   "cell_type": "code",
   "execution_count": 9,
   "metadata": {},
   "outputs": [],
   "source": [
    "# get rid of any professions other than writer and director or writer/director under primary_profession column\n",
    "profs = names2['primary_profession'].str.split(',').explode()\n",
    "filtered_profs = profs[profs.isin(['writer', 'writer director', 'director'])]\n",
    "filtered_profs.groupby(filtered_profs.index).agg(','.join)\n",
    "names2 = names2.drop('primary_profession', axis=1).join(filtered_profs.groupby(filtered_profs.index).agg(','.join), how='inner')"
   ]
  },
  {
   "cell_type": "markdown",
   "metadata": {},
   "source": [
    "### failure at searching for highest grossin films by title"
   ]
  },
  {
   "cell_type": "code",
   "execution_count": 10,
   "metadata": {},
   "outputs": [
    {
     "data": {
      "text/plain": [
       "tconst                                              tt2488496\n",
       "primary_title      Star Wars: Episode VII - The Force Awakens\n",
       "original_title     Star Wars: Episode VII - The Force Awakens\n",
       "start_year                                               2015\n",
       "runtime_minutes                                           136\n",
       "genres                               Action,Adventure,Fantasy\n",
       "Name: 41443, dtype: object"
      ]
     },
     "execution_count": 10,
     "metadata": {},
     "output_type": "execute_result"
    }
   ],
   "source": [
    "films = title2['primary_title']\n",
    "star_wars = films[films.isin(['Star Wars: Episode VII - The Force Awakens'])]\n",
    "star_wars\n",
    "title2.loc[41443, :]"
   ]
  },
  {
   "cell_type": "code",
   "execution_count": 11,
   "metadata": {},
   "outputs": [],
   "source": [
    "# Now we have the tconst of Star Wars: Episode VII. \n",
    "# Let's find who the writer's directors were by tconst\n",
    "\n",
    "extra_directors = names2[names2.known_for_titles.str.contains('tt2488496', na=False)].head(5)"
   ]
  },
  {
   "cell_type": "markdown",
   "metadata": {},
   "source": [
    "The above list points out that just because we have primary profssion \n",
    "narrowed down to writer and director, doesn't mean that when we search for\n",
    "that tconst under known_for_titles it will return only our desired director.\n",
    "other actors and producers who worked on star was in that capacity are also \n",
    "directors on other projects. Thusly, there name is still associated with the\n",
    "profession director/writer and returned with our search along with the \n",
    "real writer and director"
   ]
  },
  {
   "cell_type": "markdown",
   "metadata": {},
   "source": [
    "**-----------------------------------------------------------------------------------------------------------------**"
   ]
  },
  {
   "cell_type": "code",
   "execution_count": 12,
   "metadata": {},
   "outputs": [
    {
     "data": {
      "text/html": [
       "<div>\n",
       "<style scoped>\n",
       "    .dataframe tbody tr th:only-of-type {\n",
       "        vertical-align: middle;\n",
       "    }\n",
       "\n",
       "    .dataframe tbody tr th {\n",
       "        vertical-align: top;\n",
       "    }\n",
       "\n",
       "    .dataframe thead th {\n",
       "        text-align: right;\n",
       "    }\n",
       "</style>\n",
       "<table border=\"1\" class=\"dataframe\">\n",
       "  <thead>\n",
       "    <tr style=\"text-align: right;\">\n",
       "      <th></th>\n",
       "      <th>tconst</th>\n",
       "      <th>primary_title</th>\n",
       "      <th>original_title</th>\n",
       "      <th>start_year</th>\n",
       "      <th>runtime_minutes</th>\n",
       "      <th>genres</th>\n",
       "    </tr>\n",
       "  </thead>\n",
       "  <tbody>\n",
       "    <tr>\n",
       "      <th>2</th>\n",
       "      <td>tt0069049</td>\n",
       "      <td>The Other Side of the Wind</td>\n",
       "      <td>The Other Side of the Wind</td>\n",
       "      <td>2018</td>\n",
       "      <td>122.0</td>\n",
       "      <td>Drama</td>\n",
       "    </tr>\n",
       "    <tr>\n",
       "      <th>3</th>\n",
       "      <td>tt0069204</td>\n",
       "      <td>Sabse Bada Sukh</td>\n",
       "      <td>Sabse Bada Sukh</td>\n",
       "      <td>2018</td>\n",
       "      <td>NaN</td>\n",
       "      <td>Comedy,Drama</td>\n",
       "    </tr>\n",
       "    <tr>\n",
       "      <th>4</th>\n",
       "      <td>tt0100275</td>\n",
       "      <td>The Wandering Soap Opera</td>\n",
       "      <td>La Telenovela Errante</td>\n",
       "      <td>2017</td>\n",
       "      <td>80.0</td>\n",
       "      <td>Comedy,Drama,Fantasy</td>\n",
       "    </tr>\n",
       "  </tbody>\n",
       "</table>\n",
       "</div>"
      ],
      "text/plain": [
       "      tconst               primary_title              original_title  \\\n",
       "2  tt0069049  The Other Side of the Wind  The Other Side of the Wind   \n",
       "3  tt0069204             Sabse Bada Sukh             Sabse Bada Sukh   \n",
       "4  tt0100275    The Wandering Soap Opera       La Telenovela Errante   \n",
       "\n",
       "   start_year  runtime_minutes                genres  \n",
       "2        2018            122.0                 Drama  \n",
       "3        2018              NaN          Comedy,Drama  \n",
       "4        2017             80.0  Comedy,Drama,Fantasy  "
      ]
     },
     "execution_count": 12,
     "metadata": {},
     "output_type": "execute_result"
    }
   ],
   "source": [
    "title2.head(3)"
   ]
  },
  {
   "cell_type": "markdown",
   "metadata": {},
   "source": [
    "* it appears that **title.basics** gets us the vital statistics of the movie\n",
    "* the **title.basics** original_title col might match up with the **akas** title col\n",
    "* might be overlap with original_title/*akas*title cols\n"
   ]
  },
  {
   "cell_type": "code",
   "execution_count": 13,
   "metadata": {
    "scrolled": true
   },
   "outputs": [
    {
     "data": {
      "text/html": [
       "<div>\n",
       "<style scoped>\n",
       "    .dataframe tbody tr th:only-of-type {\n",
       "        vertical-align: middle;\n",
       "    }\n",
       "\n",
       "    .dataframe tbody tr th {\n",
       "        vertical-align: top;\n",
       "    }\n",
       "\n",
       "    .dataframe thead th {\n",
       "        text-align: right;\n",
       "    }\n",
       "</style>\n",
       "<table border=\"1\" class=\"dataframe\">\n",
       "  <thead>\n",
       "    <tr style=\"text-align: right;\">\n",
       "      <th></th>\n",
       "      <th>tconst</th>\n",
       "      <th>ordering</th>\n",
       "      <th>title</th>\n",
       "      <th>region</th>\n",
       "      <th>language</th>\n",
       "      <th>types</th>\n",
       "      <th>attributes</th>\n",
       "      <th>is_original_title</th>\n",
       "    </tr>\n",
       "  </thead>\n",
       "  <tbody>\n",
       "    <tr>\n",
       "      <th>48</th>\n",
       "      <td>tt0381957</td>\n",
       "      <td>1</td>\n",
       "      <td>Cloud Cuckoo Land</td>\n",
       "      <td>GB</td>\n",
       "      <td>NaN</td>\n",
       "      <td>NaN</td>\n",
       "      <td>NaN</td>\n",
       "      <td>0.0</td>\n",
       "    </tr>\n",
       "    <tr>\n",
       "      <th>49</th>\n",
       "      <td>tt0401729</td>\n",
       "      <td>10</td>\n",
       "      <td>Джон Картер: Мiж двох свiтiв</td>\n",
       "      <td>UA</td>\n",
       "      <td>NaN</td>\n",
       "      <td>NaN</td>\n",
       "      <td>NaN</td>\n",
       "      <td>0.0</td>\n",
       "    </tr>\n",
       "    <tr>\n",
       "      <th>50</th>\n",
       "      <td>tt0401729</td>\n",
       "      <td>11</td>\n",
       "      <td>John Carter of Mars</td>\n",
       "      <td>US</td>\n",
       "      <td>NaN</td>\n",
       "      <td>working</td>\n",
       "      <td>NaN</td>\n",
       "      <td>0.0</td>\n",
       "    </tr>\n",
       "    <tr>\n",
       "      <th>51</th>\n",
       "      <td>tt0401729</td>\n",
       "      <td>12</td>\n",
       "      <td>A Princess of Mars</td>\n",
       "      <td>US</td>\n",
       "      <td>NaN</td>\n",
       "      <td>working</td>\n",
       "      <td>NaN</td>\n",
       "      <td>0.0</td>\n",
       "    </tr>\n",
       "    <tr>\n",
       "      <th>52</th>\n",
       "      <td>tt0401729</td>\n",
       "      <td>13</td>\n",
       "      <td>John Carter - Entre dos mundos</td>\n",
       "      <td>AR</td>\n",
       "      <td>NaN</td>\n",
       "      <td>imdbDisplay</td>\n",
       "      <td>NaN</td>\n",
       "      <td>0.0</td>\n",
       "    </tr>\n",
       "    <tr>\n",
       "      <th>53</th>\n",
       "      <td>tt0401729</td>\n",
       "      <td>14</td>\n",
       "      <td>John Carter Maaveeran</td>\n",
       "      <td>IN</td>\n",
       "      <td>ta</td>\n",
       "      <td>NaN</td>\n",
       "      <td>dubbed version</td>\n",
       "      <td>0.0</td>\n",
       "    </tr>\n",
       "    <tr>\n",
       "      <th>54</th>\n",
       "      <td>tt0401729</td>\n",
       "      <td>15</td>\n",
       "      <td>Džonas Karteris</td>\n",
       "      <td>LT</td>\n",
       "      <td>NaN</td>\n",
       "      <td>NaN</td>\n",
       "      <td>NaN</td>\n",
       "      <td>0.0</td>\n",
       "    </tr>\n",
       "    <tr>\n",
       "      <th>55</th>\n",
       "      <td>tt0401729</td>\n",
       "      <td>16</td>\n",
       "      <td>John Carter</td>\n",
       "      <td>PT</td>\n",
       "      <td>NaN</td>\n",
       "      <td>imdbDisplay</td>\n",
       "      <td>NaN</td>\n",
       "      <td>0.0</td>\n",
       "    </tr>\n",
       "    <tr>\n",
       "      <th>56</th>\n",
       "      <td>tt0401729</td>\n",
       "      <td>17</td>\n",
       "      <td>John Carter: Mezi dvěma světy</td>\n",
       "      <td>CZ</td>\n",
       "      <td>NaN</td>\n",
       "      <td>NaN</td>\n",
       "      <td>NaN</td>\n",
       "      <td>0.0</td>\n",
       "    </tr>\n",
       "    <tr>\n",
       "      <th>57</th>\n",
       "      <td>tt0401729</td>\n",
       "      <td>18</td>\n",
       "      <td>John Carter: Ανάμεσα σε δύο κόσμους</td>\n",
       "      <td>GR</td>\n",
       "      <td>NaN</td>\n",
       "      <td>NaN</td>\n",
       "      <td>NaN</td>\n",
       "      <td>0.0</td>\n",
       "    </tr>\n",
       "  </tbody>\n",
       "</table>\n",
       "</div>"
      ],
      "text/plain": [
       "       tconst  ordering                                title region language  \\\n",
       "48  tt0381957         1                    Cloud Cuckoo Land     GB      NaN   \n",
       "49  tt0401729        10         Джон Картер: Мiж двох свiтiв     UA      NaN   \n",
       "50  tt0401729        11                  John Carter of Mars     US      NaN   \n",
       "51  tt0401729        12                   A Princess of Mars     US      NaN   \n",
       "52  tt0401729        13       John Carter - Entre dos mundos     AR      NaN   \n",
       "53  tt0401729        14                John Carter Maaveeran     IN       ta   \n",
       "54  tt0401729        15                      Džonas Karteris     LT      NaN   \n",
       "55  tt0401729        16                          John Carter     PT      NaN   \n",
       "56  tt0401729        17        John Carter: Mezi dvěma světy     CZ      NaN   \n",
       "57  tt0401729        18  John Carter: Ανάμεσα σε δύο κόσμους     GR      NaN   \n",
       "\n",
       "          types      attributes  is_original_title  \n",
       "48          NaN             NaN                0.0  \n",
       "49          NaN             NaN                0.0  \n",
       "50      working             NaN                0.0  \n",
       "51      working             NaN                0.0  \n",
       "52  imdbDisplay             NaN                0.0  \n",
       "53          NaN  dubbed version                0.0  \n",
       "54          NaN             NaN                0.0  \n",
       "55  imdbDisplay             NaN                0.0  \n",
       "56          NaN             NaN                0.0  \n",
       "57          NaN             NaN                0.0  "
      ]
     },
     "execution_count": 13,
     "metadata": {},
     "output_type": "execute_result"
    }
   ],
   "source": [
    "akas2.head(10)"
   ]
  },
  {
   "cell_type": "markdown",
   "metadata": {},
   "source": [
    "* It appears that what we'll find in **akas** is the names of movies in other languages\n",
    "* change is_original_title from float to int"
   ]
  },
  {
   "cell_type": "code",
   "execution_count": 14,
   "metadata": {
    "scrolled": true
   },
   "outputs": [
    {
     "data": {
      "text/html": [
       "<div>\n",
       "<style scoped>\n",
       "    .dataframe tbody tr th:only-of-type {\n",
       "        vertical-align: middle;\n",
       "    }\n",
       "\n",
       "    .dataframe tbody tr th {\n",
       "        vertical-align: top;\n",
       "    }\n",
       "\n",
       "    .dataframe thead th {\n",
       "        text-align: right;\n",
       "    }\n",
       "</style>\n",
       "<table border=\"1\" class=\"dataframe\">\n",
       "  <thead>\n",
       "    <tr style=\"text-align: right;\">\n",
       "      <th></th>\n",
       "      <th>nconst</th>\n",
       "      <th>primary_name</th>\n",
       "      <th>known_for_titles</th>\n",
       "      <th>primary_profession</th>\n",
       "    </tr>\n",
       "  </thead>\n",
       "  <tbody>\n",
       "    <tr>\n",
       "      <th>2</th>\n",
       "      <td>nm0062070</td>\n",
       "      <td>Bruce Baum</td>\n",
       "      <td>tt1470654,tt0363631,tt0104030,tt0102898</td>\n",
       "      <td>writer</td>\n",
       "    </tr>\n",
       "    <tr>\n",
       "      <th>5</th>\n",
       "      <td>nm0062879</td>\n",
       "      <td>Ruel S. Bayani</td>\n",
       "      <td>tt2590280,tt0352080,tt0216559,tt2057445</td>\n",
       "      <td>director</td>\n",
       "    </tr>\n",
       "    <tr>\n",
       "      <th>10</th>\n",
       "      <td>nm0064023</td>\n",
       "      <td>Bryan Beasley</td>\n",
       "      <td>tt3501180,tt1485100,tt1358897,tt1387162</td>\n",
       "      <td>director,writer</td>\n",
       "    </tr>\n",
       "    <tr>\n",
       "      <th>12</th>\n",
       "      <td>nm0065847</td>\n",
       "      <td>Michael Frost Beckner</td>\n",
       "      <td>tt0108171,tt0095953,tt0266987,tt0285332</td>\n",
       "      <td>writer</td>\n",
       "    </tr>\n",
       "    <tr>\n",
       "      <th>15</th>\n",
       "      <td>nm0066163</td>\n",
       "      <td>Arnaud Bedouët</td>\n",
       "      <td>tt1355327,tt1977735,tt0173525,tt1710520</td>\n",
       "      <td>writer,director</td>\n",
       "    </tr>\n",
       "    <tr>\n",
       "      <th>16</th>\n",
       "      <td>nm0066268</td>\n",
       "      <td>Steve Mitchell Beebe</td>\n",
       "      <td>tt0827928,tt0119961,tt0408417,tt5521860</td>\n",
       "      <td>director</td>\n",
       "    </tr>\n",
       "    <tr>\n",
       "      <th>18</th>\n",
       "      <td>nm0067234</td>\n",
       "      <td>Hans Beimler</td>\n",
       "      <td>tt0486657,tt0092455,tt0091129,tt0106145</td>\n",
       "      <td>writer</td>\n",
       "    </tr>\n",
       "    <tr>\n",
       "      <th>21</th>\n",
       "      <td>nm0068170</td>\n",
       "      <td>Dylan Bell</td>\n",
       "      <td>tt4655766,tt3180116,tt8170168,tt4082762</td>\n",
       "      <td>director</td>\n",
       "    </tr>\n",
       "    <tr>\n",
       "      <th>23</th>\n",
       "      <td>nm0068874</td>\n",
       "      <td>Hava Kohav Beller</td>\n",
       "      <td>tt0102778,tt7701650,tt0350668</td>\n",
       "      <td>director,writer</td>\n",
       "    </tr>\n",
       "    <tr>\n",
       "      <th>30</th>\n",
       "      <td>nm0070482</td>\n",
       "      <td>Joel Bender</td>\n",
       "      <td>tt1454573,tt0077597,tt4637900,tt0424938</td>\n",
       "      <td>director,writer</td>\n",
       "    </tr>\n",
       "  </tbody>\n",
       "</table>\n",
       "</div>"
      ],
      "text/plain": [
       "       nconst           primary_name                         known_for_titles  \\\n",
       "2   nm0062070             Bruce Baum  tt1470654,tt0363631,tt0104030,tt0102898   \n",
       "5   nm0062879         Ruel S. Bayani  tt2590280,tt0352080,tt0216559,tt2057445   \n",
       "10  nm0064023          Bryan Beasley  tt3501180,tt1485100,tt1358897,tt1387162   \n",
       "12  nm0065847  Michael Frost Beckner  tt0108171,tt0095953,tt0266987,tt0285332   \n",
       "15  nm0066163         Arnaud Bedouët  tt1355327,tt1977735,tt0173525,tt1710520   \n",
       "16  nm0066268   Steve Mitchell Beebe  tt0827928,tt0119961,tt0408417,tt5521860   \n",
       "18  nm0067234           Hans Beimler  tt0486657,tt0092455,tt0091129,tt0106145   \n",
       "21  nm0068170             Dylan Bell  tt4655766,tt3180116,tt8170168,tt4082762   \n",
       "23  nm0068874      Hava Kohav Beller            tt0102778,tt7701650,tt0350668   \n",
       "30  nm0070482            Joel Bender  tt1454573,tt0077597,tt4637900,tt0424938   \n",
       "\n",
       "   primary_profession  \n",
       "2              writer  \n",
       "5            director  \n",
       "10    director,writer  \n",
       "12             writer  \n",
       "15    writer,director  \n",
       "16           director  \n",
       "18             writer  \n",
       "21           director  \n",
       "23    director,writer  \n",
       "30    director,writer  "
      ]
     },
     "execution_count": 14,
     "metadata": {},
     "output_type": "execute_result"
    }
   ],
   "source": [
    "names2.head(10)"
   ]
  },
  {
   "cell_type": "markdown",
   "metadata": {},
   "source": [
    "* nmconst = str\n"
   ]
  },
  {
   "cell_type": "markdown",
   "metadata": {},
   "source": [
    "Here we have a list of strings representing\n",
    "all the professions in primary_profession we can choose from this list and apply any names \n",
    "we wish to **\"get rid of any professional except\n",
    "writers and directors.. code in the cell above\"**\n",
    "this will return rows with only *producer*, for example.\n",
    "Then we can correlate the producers with the highest \n",
    "grossing films from 2018 (or any other year) by connecting tconst\n",
    "and (example) nm0001011, symbolizing director and witers, from Manav's crew df \n",
    "then secure their employment for the making of our first movies."
   ]
  },
  {
   "cell_type": "code",
   "execution_count": 15,
   "metadata": {},
   "outputs": [
    {
     "data": {
      "text/html": [
       "<div>\n",
       "<style scoped>\n",
       "    .dataframe tbody tr th:only-of-type {\n",
       "        vertical-align: middle;\n",
       "    }\n",
       "\n",
       "    .dataframe tbody tr th {\n",
       "        vertical-align: top;\n",
       "    }\n",
       "\n",
       "    .dataframe thead th {\n",
       "        text-align: right;\n",
       "    }\n",
       "</style>\n",
       "<table border=\"1\" class=\"dataframe\">\n",
       "  <thead>\n",
       "    <tr style=\"text-align: right;\">\n",
       "      <th></th>\n",
       "      <th>tconst</th>\n",
       "      <th>directors</th>\n",
       "      <th>writers</th>\n",
       "    </tr>\n",
       "  </thead>\n",
       "  <tbody>\n",
       "    <tr>\n",
       "      <th>0</th>\n",
       "      <td>tt0285252</td>\n",
       "      <td>nm0899854</td>\n",
       "      <td>nm0899854</td>\n",
       "    </tr>\n",
       "    <tr>\n",
       "      <th>1</th>\n",
       "      <td>tt0438973</td>\n",
       "      <td>NaN</td>\n",
       "      <td>nm0175726,nm1802864</td>\n",
       "    </tr>\n",
       "    <tr>\n",
       "      <th>2</th>\n",
       "      <td>tt0462036</td>\n",
       "      <td>nm1940585</td>\n",
       "      <td>nm1940585</td>\n",
       "    </tr>\n",
       "    <tr>\n",
       "      <th>3</th>\n",
       "      <td>tt0835418</td>\n",
       "      <td>nm0151540</td>\n",
       "      <td>nm0310087,nm0841532</td>\n",
       "    </tr>\n",
       "    <tr>\n",
       "      <th>4</th>\n",
       "      <td>tt0878654</td>\n",
       "      <td>nm0089502,nm2291498,nm2292011</td>\n",
       "      <td>nm0284943</td>\n",
       "    </tr>\n",
       "  </tbody>\n",
       "</table>\n",
       "</div>"
      ],
      "text/plain": [
       "      tconst                      directors              writers\n",
       "0  tt0285252                      nm0899854            nm0899854\n",
       "1  tt0438973                            NaN  nm0175726,nm1802864\n",
       "2  tt0462036                      nm1940585            nm1940585\n",
       "3  tt0835418                      nm0151540  nm0310087,nm0841532\n",
       "4  tt0878654  nm0089502,nm2291498,nm2292011            nm0284943"
      ]
     },
     "execution_count": 15,
     "metadata": {},
     "output_type": "execute_result"
    }
   ],
   "source": [
    "# manav's imdb df with numbers and letters pointing to crew\n",
    "imdb_crew.head(5)"
   ]
  },
  {
   "cell_type": "markdown",
   "metadata": {},
   "source": [
    "* the **crew** df gets us the writer and director cols\n",
    "* some investigating has to be done on what the letters and numbers in each record point to (i.e. the director's name)\n",
    "* ?what is tconst?"
   ]
  },
  {
   "cell_type": "markdown",
   "metadata": {},
   "source": [
    "# Start of Nate's Graphs"
   ]
  },
  {
   "cell_type": "code",
   "execution_count": 16,
   "metadata": {},
   "outputs": [],
   "source": [
    "# Loading Manav's final dataframe\n",
    "# making a copy of the dataframe and assigning it to\n",
    "# the variabable cleaner\n",
    "cleaner_imdb = pd.read_csv('data/imdb_cleaned_final.csv')\n",
    "cleaner = cleaner_imdb.copy()"
   ]
  },
  {
   "cell_type": "code",
   "execution_count": 17,
   "metadata": {},
   "outputs": [],
   "source": [
    "# drop duplicates based on tconst redundancies\n",
    "cleaner.drop_duplicates(subset = \"tconst\",  inplace = True)"
   ]
  },
  {
   "cell_type": "code",
   "execution_count": 18,
   "metadata": {},
   "outputs": [
    {
     "data": {
      "image/png": "[encoded data removed]",
      "text/plain": [
       "<Figure size 864x576 with 1 Axes>"
      ]
     },
     "metadata": {
      "needs_background": "light"
     },
     "output_type": "display_data"
    }
   ],
   "source": [
    "# Scatter plot of production_budget vs Worldwide Net Profit\n",
    "budget = cleaner['production_budget']\n",
    "profit = cleaner['Worldwide Net Profit']\n",
    "\n",
    "fig, ax = plt.subplots(figsize=(12,8))\n",
    "\n",
    "ax = sns.regplot(x='production_budget', y=profit, data = cleaner, color='green', scatter_kws={'alpha':0.2});\n",
    "\n",
    "\n",
    "ax.set_facecolor('white')\n",
    "ax.set_xlabel('Production Budget', size=14)\n",
    "ax.set_ylabel('World Wide Net Profit in US DOllars', size=16)\n",
    "ax.set_title('World Wide Net Profit vs Production Budget \\n (Positive Correlation = 0.655)', size =20)\n",
    "\n",
    "ax.set_xlim(0, 410000000)\n",
    "plt.yticks(rotation=20)\n",
    "\n",
    "\n",
    "ax.xaxis.set_major_formatter(ticker.EngFormatter())\n",
    "plt.ticklabel_format(style='plain', axis='y');"
   ]
  },
  {
   "cell_type": "code",
   "execution_count": 19,
   "metadata": {},
   "outputs": [
    {
     "data": {
      "text/plain": [
       "-110450242"
      ]
     },
     "execution_count": 19,
     "metadata": {},
     "output_type": "execute_result"
    }
   ],
   "source": [
    "#World Wide Net Prof vs Poduction Budget correlation\n",
    "cleaner['Worldwide Net Profit'].min()#['production_budget']['Worldwide Net Profit']"
   ]
  },
  {
   "cell_type": "markdown",
   "metadata": {},
   "source": [
    "The Production Budget vs Worldwide Net Profits scatter plot (above in green) shows that there seems to be a slightly strong correllation between how much a studio spends on a film and how much it profits on the world market. These figures could be interpeted as the more money spent equals more money accrued. However, it should be taken into account that the highest loss of any film world wide was $110,450,242. As a precaution it may be in the studio's best\n",
    "interest to not produce all big budget movies in its infancy as a company. Perhaps reference independent studios such\n",
    "as A24 for ideas on smaller budget productions that make robust profits, earn fans' admiration, while maintaining artistic integrity. "
   ]
  },
  {
   "cell_type": "code",
   "execution_count": 20,
   "metadata": {
    "scrolled": false
   },
   "outputs": [
    {
     "data": {
      "image/png": "[encoded data removed]",
      "text/plain": [
       "<Figure size 864x576 with 1 Axes>"
      ]
     },
     "metadata": {
      "needs_background": "light"
     },
     "output_type": "display_data"
    }
   ],
   "source": [
    "#Scatter plot of production_budget vs averagerating\n",
    "\n",
    "rating = cleaner['averagerating']\n",
    "\n",
    "fig, ax = plt.subplots(figsize=(12,8))\n",
    "\n",
    "sns.regplot(x=budget, y=rating, data = cleaner, color='darkred', scatter_kws={'alpha':0.2})\n",
    "\n",
    "ax.set_facecolor('lightgrey')\n",
    "ax.set_xlabel('Production Budget',size=14)\n",
    "ax.set_ylabel('Average IMDb Rating', size=16)\n",
    "ax.set_title('Production Budget vs Average IMDB Rating \\n (Positive Correlation = 0.15)', size =21)\n",
    "ax.set_xlim(0, 410000000)\n",
    "ax.xaxis.set_major_formatter(ticker.EngFormatter());"
   ]
  },
  {
   "cell_type": "code",
   "execution_count": 21,
   "metadata": {},
   "outputs": [
    {
     "data": {
      "text/plain": [
       "0.15091492158356226"
      ]
     },
     "execution_count": 21,
     "metadata": {},
     "output_type": "execute_result"
    }
   ],
   "source": [
    "cleaner.corr()['production_budget']['averagerating']"
   ]
  },
  {
   "cell_type": "markdown",
   "metadata": {},
   "source": [
    "The Production Budget vs Average IMDB Rating coupled with the correlation figures show that there is very low \n",
    "positive correlation between production budget and IMDb ratings. \n",
    "Therefore, decisions on which films to make should not be based \n",
    "upon IMDb reviews. As much as Twitter might have you believe."
   ]
  },
  {
   "cell_type": "code",
   "execution_count": 22,
   "metadata": {},
   "outputs": [
    {
     "data": {
      "image/png": "[encoded data removed]",
      "text/plain": [
       "<Figure size 864x576 with 1 Axes>"
      ]
     },
     "metadata": {
      "needs_background": "light"
     },
     "output_type": "display_data"
    }
   ],
   "source": [
    "fig, ax = plt.subplots(figsize=(12,8))\n",
    "\n",
    "sns.regplot(x=profit, y=rating, data = cleaner, color='darkblue', scatter_kws={'alpha':0.2})\n",
    "\n",
    "ax.set_facecolor('lightgrey')\n",
    "ax.set_xlabel('Worldwide Net Profit in US Dollars',size=14)\n",
    "ax.set_ylabel('Average IMDb Rating', size=16)\n",
    "ax.set_title('Worldwide Net Profit vs Average IMDB Rating \\n (Positive Correlation = 0.236)', size =19)\n",
    "ax.set_xlim(0, 410000000)\n",
    "ax.xaxis.set_major_formatter(ticker.EngFormatter());"
   ]
  },
  {
   "cell_type": "code",
   "execution_count": 23,
   "metadata": {},
   "outputs": [
    {
     "data": {
      "text/plain": [
       "0.2361185196365939"
      ]
     },
     "execution_count": 23,
     "metadata": {},
     "output_type": "execute_result"
    }
   ],
   "source": [
    "cleaner.corr()['Worldwide Net Profit']['averagerating']"
   ]
  },
  {
   "cell_type": "markdown",
   "metadata": {},
   "source": [
    "The Worldwide Net Profit vs Average IMDb Rating scatter plot along with the correlation calculation \n",
    "shows that there is a low positive correlation between Net Profit and user ratings. It is however, slightly \n",
    "higher than the correlation between Production Budget and Average IMDb rating. This could be due to more people\n",
    "paying to see the films or repeated viewings which would, one could surmise, lead to more favorable reviews."
   ]
  },
  {
   "cell_type": "markdown",
   "metadata": {},
   "source": [
    "# Nina's Notebook"
   ]
  },
  {
   "cell_type": "markdown",
   "metadata": {},
   "source": [
    "##Cleaning the Data"
   ]
  },
  {
   "cell_type": "code",
   "execution_count": 24,
   "metadata": {},
   "outputs": [],
   "source": [
    "bom = pd.read_csv('data/bom.movie_gross.csv.gz')\n",
    "\n",
    "#The foreign_gross column 1/3 of its values as missing, so we'll drop the column\n",
    "cleaned_bom = bom.drop('foreign_gross', axis='columns')\n",
    "#We'll also drop the rows that have missing values in the 'domestic_gross' column\n",
    "cleaned_bom.dropna(subset=['domestic_gross'], axis=0, inplace=True)"
   ]
  },
  {
   "cell_type": "code",
   "execution_count": 25,
   "metadata": {},
   "outputs": [],
   "source": [
    "# tn = pd.read_csv('data/tn.movie_budgets.csv.gz')\n",
    "\n",
    "# tn_cleaned = tn.copy()\n",
    "\n",
    "# def clean_money(col):\n",
    "#     #removes commas from strings\n",
    "#     col = col.str.replace(',', '')\n",
    "#     #removes dollar sign from strings\n",
    "#     col = col.str.replace('$', '')\n",
    "#     #casts the column as an int\n",
    "#     col = col.astype(int)\n",
    "#     return col\n",
    "\n",
    "# #takes the monetary value columns and reformats the strings as ints\n",
    "# tn_cleaned[['production_budget', 'domestic_gross', 'worldwide_gross']] = tn_cleaned[['production_budget', 'domestic_gross', 'worldwide_gross']].apply(clean_money)\n",
    "\n",
    "# #removes comma from release_date strings\n",
    "# tn_cleaned['release_date'] = tn_cleaned['release_date'].str.replace(',','')\n",
    "# #separates the release date, formatted 'm d y' into 3 values and places them into their respective columns  \n",
    "# tn_cleaned[['release_month', 'release_day', 'release_year']] = tn_cleaned['release_date'].str.split(expand=True)\n",
    "\n",
    "# '''\n",
    "# Creates a dictionary of the string months paired with their numeric value.\n",
    "# This dictionary is mapped over 'release_month' column to create a 'release_month' column\n",
    "# '''\n",
    "# month_str = 'Jan Feb Mar Apr May Jun Jul Aug Sep Oct Nov Dec'.split()\n",
    "# month_dict = dict(zip(month_str, list(range(1,13))))\n",
    "# tn_cleaned['release_month'] = tn_cleaned['release_month'].map(month_dict)"
   ]
  },
  {
   "cell_type": "code",
   "execution_count": 26,
   "metadata": {},
   "outputs": [],
   "source": [
    "# tmdb = pd.read_csv('data/tmdb.movies.csv.gz')\n",
    "# #Converts the 'genre_ids' values into lists instead of strings\n",
    "# tmdb['genre_ids'] = tmdb['genre_ids'].apply(ast.literal_eval)\n",
    "# #unpacks the 'genre_id columns' and assigns individual values to the 'genre_id' column\n",
    "# tmdb_cleaned = tmdb.assign(genre_id=tmdb['genre_ids']).explode('genre_id')\n",
    "# #Drops 'Unnamed: 0' because it was a duplicate index column\n",
    "# tmdb_cleaned.drop('Unnamed: 0', axis='columns', inplace=True)\n",
    "# #splits the release_date, formatted m/d/y into 3 values and places them into their respective columns \n",
    "# tmdb_cleaned[['release_month', 'release_day', 'release_year']] = tmdb_cleaned['release_date'].str.split(r'/', expand=True)\n",
    "\n",
    "# #A Dictionary containing the genre_id key mappings \n",
    "# genre_dict= {\n",
    "#             28:'Action' \n",
    "#             ,12:'Adventure' \n",
    "#             ,16:'Animation' \n",
    "#             ,35:'Comedy' \n",
    "#             ,80:'Crime' \n",
    "#             ,99:'Documentary' \n",
    "#             ,18:'Drama' \n",
    "#             ,10751:'Family' \n",
    "#             ,14:'Fantasy' \n",
    "#             ,36:'History' \n",
    "#             ,27:'Horror' \n",
    "#             ,10402:'Music' \n",
    "#             ,9648:'Mystery' \n",
    "#             ,10749:'Romance' \n",
    "#             ,878: 'Science Fiction '\n",
    "#             ,10770: 'TV  Movie' \n",
    "#             ,53:'Thriller' \n",
    "#             ,10752:'War' \n",
    "#             ,37:'Western' \n",
    "# }\n",
    "\n",
    "# #Creates a new column 'genre_str' from the mapped genre_dict\n",
    "# tmdb_cleaned['genre_str'] = tmdb_cleaned['genre_id'].map(genre_dict)\n",
    "# tmdb_cleaned.dropna(axis='rows', subset=['genre_id'], inplace=True)"
   ]
  },
  {
   "cell_type": "markdown",
   "metadata": {},
   "source": [
    "# Manav's Notebook"
   ]
  },
  {
   "cell_type": "markdown",
   "metadata": {},
   "source": [
    "# Cleaning the Data"
   ]
  },
  {
   "cell_type": "code",
   "execution_count": 27,
   "metadata": {},
   "outputs": [],
   "source": [
    "# Rename akas title_id to tconst to allow for future merge\n",
    "akas_imdb.rename(columns = {'title_id':'tconst'}, inplace = True)"
   ]
  },
  {
   "cell_type": "code",
   "execution_count": 28,
   "metadata": {},
   "outputs": [],
   "source": [
    "# Droping the birth year and death year for name_basics_imdb\n",
    "name_basics_imdb.drop(['death_year'], axis = 1, inplace=True)\n",
    "name_basics_imdb.drop(['birth_year'], axis = 1, inplace=True)"
   ]
  },
  {
   "cell_type": "markdown",
   "metadata": {},
   "source": [
    "### Making all the movie titles lowercase."
   ]
  },
  {
   "cell_type": "code",
   "execution_count": 29,
   "metadata": {},
   "outputs": [],
   "source": [
    "tn_cleaned['movie'] = tn_cleaned['movie'].apply(lambda x: x.lower())\n",
    "tndb_cleaned['original_title'] = tndb_cleaned['original_title'].apply(lambda x: x.lower())\n",
    "tndb_cleaned['title'] = tndb_cleaned['title'].apply(lambda x: x.lower())\n",
    "cleaned_bom['title'] = cleaned_bom['title'].apply(lambda x: x.lower())\n",
    "title_basics_imdb['primary_title'] = title_basics_imdb['primary_title'].apply(lambda x: x.lower())\n",
    "akas_imdb['title'] = akas_imdb['title'].apply(lambda x: x.lower())"
   ]
  },
  {
   "cell_type": "code",
   "execution_count": 30,
   "metadata": {},
   "outputs": [],
   "source": [
    "# Changing 'movie' to 'title' for Nina's data\n",
    "tn_cleaned.rename(columns= {'movie' : 'title'}, inplace=True)"
   ]
  },
  {
   "cell_type": "code",
   "execution_count": 31,
   "metadata": {},
   "outputs": [],
   "source": [
    "# Merging on title and basics 'nconst'\n",
    "nconst_merge = imdb_title.merge(name_basics_imdb, on = 'nconst')"
   ]
  },
  {
   "cell_type": "code",
   "execution_count": 32,
   "metadata": {},
   "outputs": [],
   "source": [
    "# Dropping missing 'nconst' data\n",
    "nconst_merge.dropna(subset = ['nconst'], inplace = True)"
   ]
  },
  {
   "cell_type": "markdown",
   "metadata": {},
   "source": [
    "# Merging all the data from imdb together on `tconst`"
   ]
  },
  {
   "cell_type": "code",
   "execution_count": 33,
   "metadata": {},
   "outputs": [
    {
     "data": {
      "text/html": [
       "<div>\n",
       "<style scoped>\n",
       "    .dataframe tbody tr th:only-of-type {\n",
       "        vertical-align: middle;\n",
       "    }\n",
       "\n",
       "    .dataframe tbody tr th {\n",
       "        vertical-align: top;\n",
       "    }\n",
       "\n",
       "    .dataframe thead th {\n",
       "        text-align: right;\n",
       "    }\n",
       "</style>\n",
       "<table border=\"1\" class=\"dataframe\">\n",
       "  <thead>\n",
       "    <tr style=\"text-align: right;\">\n",
       "      <th></th>\n",
       "      <th>tconst</th>\n",
       "      <th>ordering_x</th>\n",
       "      <th>nconst</th>\n",
       "      <th>category</th>\n",
       "      <th>job</th>\n",
       "      <th>characters</th>\n",
       "      <th>primary_name</th>\n",
       "      <th>primary_profession</th>\n",
       "      <th>known_for_titles</th>\n",
       "      <th>directors</th>\n",
       "      <th>...</th>\n",
       "      <th>start_year</th>\n",
       "      <th>runtime_minutes</th>\n",
       "      <th>genres</th>\n",
       "      <th>ordering_y</th>\n",
       "      <th>title</th>\n",
       "      <th>region</th>\n",
       "      <th>language</th>\n",
       "      <th>types</th>\n",
       "      <th>attributes</th>\n",
       "      <th>is_original_title</th>\n",
       "    </tr>\n",
       "  </thead>\n",
       "  <tbody>\n",
       "    <tr>\n",
       "      <th>0</th>\n",
       "      <td>tt5573596</td>\n",
       "      <td>5</td>\n",
       "      <td>nm0398271</td>\n",
       "      <td>director</td>\n",
       "      <td>NaN</td>\n",
       "      <td>NaN</td>\n",
       "      <td>Frank Howson</td>\n",
       "      <td>actor,writer,producer</td>\n",
       "      <td>tt0104271,tt0094789,tt0102076,tt0111414</td>\n",
       "      <td>nm0398271</td>\n",
       "      <td>...</td>\n",
       "      <td>2015</td>\n",
       "      <td>NaN</td>\n",
       "      <td>Comedy</td>\n",
       "      <td>1</td>\n",
       "      <td>remembering nigel</td>\n",
       "      <td>AU</td>\n",
       "      <td>NaN</td>\n",
       "      <td>NaN</td>\n",
       "      <td>NaN</td>\n",
       "      <td>0.0</td>\n",
       "    </tr>\n",
       "    <tr>\n",
       "      <th>1</th>\n",
       "      <td>tt5573596</td>\n",
       "      <td>4</td>\n",
       "      <td>nm0000476</td>\n",
       "      <td>actress</td>\n",
       "      <td>NaN</td>\n",
       "      <td>NaN</td>\n",
       "      <td>Sally Kirkland</td>\n",
       "      <td>actress,producer,miscellaneous</td>\n",
       "      <td>tt0315327,tt0092569,tt3216866,tt0102138</td>\n",
       "      <td>nm0398271</td>\n",
       "      <td>...</td>\n",
       "      <td>2015</td>\n",
       "      <td>NaN</td>\n",
       "      <td>Comedy</td>\n",
       "      <td>1</td>\n",
       "      <td>remembering nigel</td>\n",
       "      <td>AU</td>\n",
       "      <td>NaN</td>\n",
       "      <td>NaN</td>\n",
       "      <td>NaN</td>\n",
       "      <td>0.0</td>\n",
       "    </tr>\n",
       "    <tr>\n",
       "      <th>2</th>\n",
       "      <td>tt5573596</td>\n",
       "      <td>7</td>\n",
       "      <td>nm0001445</td>\n",
       "      <td>actor</td>\n",
       "      <td>NaN</td>\n",
       "      <td>NaN</td>\n",
       "      <td>Martin Landau</td>\n",
       "      <td>actor,producer,miscellaneous</td>\n",
       "      <td>tt0096316,tt0097123,tt0109707,tt0053125</td>\n",
       "      <td>nm0398271</td>\n",
       "      <td>...</td>\n",
       "      <td>2015</td>\n",
       "      <td>NaN</td>\n",
       "      <td>Comedy</td>\n",
       "      <td>1</td>\n",
       "      <td>remembering nigel</td>\n",
       "      <td>AU</td>\n",
       "      <td>NaN</td>\n",
       "      <td>NaN</td>\n",
       "      <td>NaN</td>\n",
       "      <td>0.0</td>\n",
       "    </tr>\n",
       "    <tr>\n",
       "      <th>3</th>\n",
       "      <td>tt5573596</td>\n",
       "      <td>1</td>\n",
       "      <td>nm0000925</td>\n",
       "      <td>actor</td>\n",
       "      <td>NaN</td>\n",
       "      <td>NaN</td>\n",
       "      <td>Steven Berkoff</td>\n",
       "      <td>actor,writer,director</td>\n",
       "      <td>tt0086034,tt0086960,tt1243957,tt0066921</td>\n",
       "      <td>nm0398271</td>\n",
       "      <td>...</td>\n",
       "      <td>2015</td>\n",
       "      <td>NaN</td>\n",
       "      <td>Comedy</td>\n",
       "      <td>1</td>\n",
       "      <td>remembering nigel</td>\n",
       "      <td>AU</td>\n",
       "      <td>NaN</td>\n",
       "      <td>NaN</td>\n",
       "      <td>NaN</td>\n",
       "      <td>0.0</td>\n",
       "    </tr>\n",
       "    <tr>\n",
       "      <th>4</th>\n",
       "      <td>tt5573596</td>\n",
       "      <td>3</td>\n",
       "      <td>nm0121007</td>\n",
       "      <td>actor</td>\n",
       "      <td>NaN</td>\n",
       "      <td>NaN</td>\n",
       "      <td>Eric Burdon</td>\n",
       "      <td>soundtrack,actor,composer</td>\n",
       "      <td>tt1478964,tt0443706,tt0118749,tt1408253</td>\n",
       "      <td>nm0398271</td>\n",
       "      <td>...</td>\n",
       "      <td>2015</td>\n",
       "      <td>NaN</td>\n",
       "      <td>Comedy</td>\n",
       "      <td>1</td>\n",
       "      <td>remembering nigel</td>\n",
       "      <td>AU</td>\n",
       "      <td>NaN</td>\n",
       "      <td>NaN</td>\n",
       "      <td>NaN</td>\n",
       "      <td>0.0</td>\n",
       "    </tr>\n",
       "  </tbody>\n",
       "</table>\n",
       "<p>5 rows × 25 columns</p>\n",
       "</div>"
      ],
      "text/plain": [
       "      tconst  ordering_x     nconst  category  job characters    primary_name  \\\n",
       "0  tt5573596           5  nm0398271  director  NaN        NaN    Frank Howson   \n",
       "1  tt5573596           4  nm0000476   actress  NaN        NaN  Sally Kirkland   \n",
       "2  tt5573596           7  nm0001445     actor  NaN        NaN   Martin Landau   \n",
       "3  tt5573596           1  nm0000925     actor  NaN        NaN  Steven Berkoff   \n",
       "4  tt5573596           3  nm0121007     actor  NaN        NaN     Eric Burdon   \n",
       "\n",
       "               primary_profession                         known_for_titles  \\\n",
       "0           actor,writer,producer  tt0104271,tt0094789,tt0102076,tt0111414   \n",
       "1  actress,producer,miscellaneous  tt0315327,tt0092569,tt3216866,tt0102138   \n",
       "2    actor,producer,miscellaneous  tt0096316,tt0097123,tt0109707,tt0053125   \n",
       "3           actor,writer,director  tt0086034,tt0086960,tt1243957,tt0066921   \n",
       "4       soundtrack,actor,composer  tt1478964,tt0443706,tt0118749,tt1408253   \n",
       "\n",
       "   directors  ... start_year  runtime_minutes  genres ordering_y  \\\n",
       "0  nm0398271  ...       2015              NaN  Comedy          1   \n",
       "1  nm0398271  ...       2015              NaN  Comedy          1   \n",
       "2  nm0398271  ...       2015              NaN  Comedy          1   \n",
       "3  nm0398271  ...       2015              NaN  Comedy          1   \n",
       "4  nm0398271  ...       2015              NaN  Comedy          1   \n",
       "\n",
       "               title  region  language types  attributes is_original_title  \n",
       "0  remembering nigel      AU       NaN   NaN         NaN               0.0  \n",
       "1  remembering nigel      AU       NaN   NaN         NaN               0.0  \n",
       "2  remembering nigel      AU       NaN   NaN         NaN               0.0  \n",
       "3  remembering nigel      AU       NaN   NaN         NaN               0.0  \n",
       "4  remembering nigel      AU       NaN   NaN         NaN               0.0  \n",
       "\n",
       "[5 rows x 25 columns]"
      ]
     },
     "execution_count": 33,
     "metadata": {},
     "output_type": "execute_result"
    }
   ],
   "source": [
    "merged_data = nconst_merge.merge(imdb_crew, on = 'tconst').merge(rating_1, on = 'tconst').merge(title_basics_imdb, on = 'tconst').merge(akas_imdb, on = 'tconst')\n",
    "merged_data.head()"
   ]
  },
  {
   "cell_type": "markdown",
   "metadata": {},
   "source": [
    "# Merging Nina's Data with `imdb` on `title`"
   ]
  },
  {
   "cell_type": "code",
   "execution_count": 34,
   "metadata": {},
   "outputs": [
    {
     "data": {
      "text/html": [
       "<div>\n",
       "<style scoped>\n",
       "    .dataframe tbody tr th:only-of-type {\n",
       "        vertical-align: middle;\n",
       "    }\n",
       "\n",
       "    .dataframe tbody tr th {\n",
       "        vertical-align: top;\n",
       "    }\n",
       "\n",
       "    .dataframe thead th {\n",
       "        text-align: right;\n",
       "    }\n",
       "</style>\n",
       "<table border=\"1\" class=\"dataframe\">\n",
       "  <thead>\n",
       "    <tr style=\"text-align: right;\">\n",
       "      <th></th>\n",
       "      <th>tconst</th>\n",
       "      <th>ordering_x</th>\n",
       "      <th>nconst</th>\n",
       "      <th>category</th>\n",
       "      <th>job</th>\n",
       "      <th>characters</th>\n",
       "      <th>primary_name</th>\n",
       "      <th>primary_profession</th>\n",
       "      <th>known_for_titles</th>\n",
       "      <th>directors</th>\n",
       "      <th>...</th>\n",
       "      <th>original_language</th>\n",
       "      <th>original_title_y</th>\n",
       "      <th>popularity</th>\n",
       "      <th>release_date_y</th>\n",
       "      <th>vote_average</th>\n",
       "      <th>vote_count</th>\n",
       "      <th>genre_id</th>\n",
       "      <th>studio</th>\n",
       "      <th>domestic_gross_y</th>\n",
       "      <th>year</th>\n",
       "    </tr>\n",
       "  </thead>\n",
       "  <tbody>\n",
       "    <tr>\n",
       "      <th>0</th>\n",
       "      <td>tt1226229</td>\n",
       "      <td>3</td>\n",
       "      <td>nm0005253</td>\n",
       "      <td>actress</td>\n",
       "      <td>NaN</td>\n",
       "      <td>[\"Daphne Binks\"]</td>\n",
       "      <td>Elisabeth Moss</td>\n",
       "      <td>actress,producer,soundtrack</td>\n",
       "      <td>tt3993894,tt5834204,tt2756032,tt0172493</td>\n",
       "      <td>nm0831557</td>\n",
       "      <td>...</td>\n",
       "      <td>en</td>\n",
       "      <td>get him to the greek</td>\n",
       "      <td>8.485</td>\n",
       "      <td>2010-06-04</td>\n",
       "      <td>5.9</td>\n",
       "      <td>980</td>\n",
       "      <td>35.0</td>\n",
       "      <td>Uni.</td>\n",
       "      <td>61000000.0</td>\n",
       "      <td>2010</td>\n",
       "    </tr>\n",
       "    <tr>\n",
       "      <th>1</th>\n",
       "      <td>tt1226229</td>\n",
       "      <td>3</td>\n",
       "      <td>nm0005253</td>\n",
       "      <td>actress</td>\n",
       "      <td>NaN</td>\n",
       "      <td>[\"Daphne Binks\"]</td>\n",
       "      <td>Elisabeth Moss</td>\n",
       "      <td>actress,producer,soundtrack</td>\n",
       "      <td>tt3993894,tt5834204,tt2756032,tt0172493</td>\n",
       "      <td>nm0831557</td>\n",
       "      <td>...</td>\n",
       "      <td>en</td>\n",
       "      <td>get him to the greek</td>\n",
       "      <td>8.485</td>\n",
       "      <td>2010-06-04</td>\n",
       "      <td>5.9</td>\n",
       "      <td>980</td>\n",
       "      <td>35.0</td>\n",
       "      <td>Uni.</td>\n",
       "      <td>61000000.0</td>\n",
       "      <td>2010</td>\n",
       "    </tr>\n",
       "    <tr>\n",
       "      <th>2</th>\n",
       "      <td>tt1226229</td>\n",
       "      <td>10</td>\n",
       "      <td>nm1015867</td>\n",
       "      <td>composer</td>\n",
       "      <td>NaN</td>\n",
       "      <td>NaN</td>\n",
       "      <td>Lyle Workman</td>\n",
       "      <td>composer,soundtrack,music_department</td>\n",
       "      <td>tt0829482,tt0405422,tt0800039,tt1068680</td>\n",
       "      <td>nm0831557</td>\n",
       "      <td>...</td>\n",
       "      <td>en</td>\n",
       "      <td>get him to the greek</td>\n",
       "      <td>8.485</td>\n",
       "      <td>2010-06-04</td>\n",
       "      <td>5.9</td>\n",
       "      <td>980</td>\n",
       "      <td>35.0</td>\n",
       "      <td>Uni.</td>\n",
       "      <td>61000000.0</td>\n",
       "      <td>2010</td>\n",
       "    </tr>\n",
       "    <tr>\n",
       "      <th>3</th>\n",
       "      <td>tt1226229</td>\n",
       "      <td>10</td>\n",
       "      <td>nm1015867</td>\n",
       "      <td>composer</td>\n",
       "      <td>NaN</td>\n",
       "      <td>NaN</td>\n",
       "      <td>Lyle Workman</td>\n",
       "      <td>composer,soundtrack,music_department</td>\n",
       "      <td>tt0829482,tt0405422,tt0800039,tt1068680</td>\n",
       "      <td>nm0831557</td>\n",
       "      <td>...</td>\n",
       "      <td>en</td>\n",
       "      <td>get him to the greek</td>\n",
       "      <td>8.485</td>\n",
       "      <td>2010-06-04</td>\n",
       "      <td>5.9</td>\n",
       "      <td>980</td>\n",
       "      <td>35.0</td>\n",
       "      <td>Uni.</td>\n",
       "      <td>61000000.0</td>\n",
       "      <td>2010</td>\n",
       "    </tr>\n",
       "    <tr>\n",
       "      <th>4</th>\n",
       "      <td>tt1226229</td>\n",
       "      <td>1</td>\n",
       "      <td>nm1706767</td>\n",
       "      <td>actor</td>\n",
       "      <td>NaN</td>\n",
       "      <td>[\"Aaron Green\"]</td>\n",
       "      <td>Jonah Hill</td>\n",
       "      <td>actor,producer,writer</td>\n",
       "      <td>tt1232829,tt2294449,tt1210166,tt0993846</td>\n",
       "      <td>nm0831557</td>\n",
       "      <td>...</td>\n",
       "      <td>en</td>\n",
       "      <td>get him to the greek</td>\n",
       "      <td>8.485</td>\n",
       "      <td>2010-06-04</td>\n",
       "      <td>5.9</td>\n",
       "      <td>980</td>\n",
       "      <td>35.0</td>\n",
       "      <td>Uni.</td>\n",
       "      <td>61000000.0</td>\n",
       "      <td>2010</td>\n",
       "    </tr>\n",
       "  </tbody>\n",
       "</table>\n",
       "<p>5 rows × 47 columns</p>\n",
       "</div>"
      ],
      "text/plain": [
       "      tconst  ordering_x     nconst  category  job        characters  \\\n",
       "0  tt1226229           3  nm0005253   actress  NaN  [\"Daphne Binks\"]   \n",
       "1  tt1226229           3  nm0005253   actress  NaN  [\"Daphne Binks\"]   \n",
       "2  tt1226229          10  nm1015867  composer  NaN               NaN   \n",
       "3  tt1226229          10  nm1015867  composer  NaN               NaN   \n",
       "4  tt1226229           1  nm1706767     actor  NaN   [\"Aaron Green\"]   \n",
       "\n",
       "     primary_name                    primary_profession  \\\n",
       "0  Elisabeth Moss           actress,producer,soundtrack   \n",
       "1  Elisabeth Moss           actress,producer,soundtrack   \n",
       "2    Lyle Workman  composer,soundtrack,music_department   \n",
       "3    Lyle Workman  composer,soundtrack,music_department   \n",
       "4      Jonah Hill                 actor,producer,writer   \n",
       "\n",
       "                          known_for_titles  directors  ... original_language  \\\n",
       "0  tt3993894,tt5834204,tt2756032,tt0172493  nm0831557  ...                en   \n",
       "1  tt3993894,tt5834204,tt2756032,tt0172493  nm0831557  ...                en   \n",
       "2  tt0829482,tt0405422,tt0800039,tt1068680  nm0831557  ...                en   \n",
       "3  tt0829482,tt0405422,tt0800039,tt1068680  nm0831557  ...                en   \n",
       "4  tt1232829,tt2294449,tt1210166,tt0993846  nm0831557  ...                en   \n",
       "\n",
       "       original_title_y  popularity release_date_y vote_average  vote_count  \\\n",
       "0  get him to the greek       8.485     2010-06-04          5.9         980   \n",
       "1  get him to the greek       8.485     2010-06-04          5.9         980   \n",
       "2  get him to the greek       8.485     2010-06-04          5.9         980   \n",
       "3  get him to the greek       8.485     2010-06-04          5.9         980   \n",
       "4  get him to the greek       8.485     2010-06-04          5.9         980   \n",
       "\n",
       "   genre_id studio  domestic_gross_y  year  \n",
       "0      35.0   Uni.        61000000.0  2010  \n",
       "1      35.0   Uni.        61000000.0  2010  \n",
       "2      35.0   Uni.        61000000.0  2010  \n",
       "3      35.0   Uni.        61000000.0  2010  \n",
       "4      35.0   Uni.        61000000.0  2010  \n",
       "\n",
       "[5 rows x 47 columns]"
      ]
     },
     "execution_count": 34,
     "metadata": {},
     "output_type": "execute_result"
    }
   ],
   "source": [
    "final_merge = merged_data.merge(tn_cleaned, on = 'title').merge(tndb_cleaned, on = 'title').merge(cleaned_bom, on = 'title')\n",
    "final_merge.head()"
   ]
  },
  {
   "cell_type": "markdown",
   "metadata": {},
   "source": [
    "# Only looking at movies from the United States `US`"
   ]
  },
  {
   "cell_type": "code",
   "execution_count": 35,
   "metadata": {},
   "outputs": [
    {
     "data": {
      "text/html": [
       "<div>\n",
       "<style scoped>\n",
       "    .dataframe tbody tr th:only-of-type {\n",
       "        vertical-align: middle;\n",
       "    }\n",
       "\n",
       "    .dataframe tbody tr th {\n",
       "        vertical-align: top;\n",
       "    }\n",
       "\n",
       "    .dataframe thead th {\n",
       "        text-align: right;\n",
       "    }\n",
       "</style>\n",
       "<table border=\"1\" class=\"dataframe\">\n",
       "  <thead>\n",
       "    <tr style=\"text-align: right;\">\n",
       "      <th></th>\n",
       "      <th>tconst</th>\n",
       "      <th>ordering_x</th>\n",
       "      <th>nconst</th>\n",
       "      <th>category</th>\n",
       "      <th>job</th>\n",
       "      <th>characters</th>\n",
       "      <th>primary_name</th>\n",
       "      <th>primary_profession</th>\n",
       "      <th>known_for_titles</th>\n",
       "      <th>directors</th>\n",
       "      <th>...</th>\n",
       "      <th>original_language</th>\n",
       "      <th>original_title_y</th>\n",
       "      <th>popularity</th>\n",
       "      <th>release_date_y</th>\n",
       "      <th>vote_average</th>\n",
       "      <th>vote_count</th>\n",
       "      <th>genre_id</th>\n",
       "      <th>studio</th>\n",
       "      <th>domestic_gross_y</th>\n",
       "      <th>year</th>\n",
       "    </tr>\n",
       "  </thead>\n",
       "  <tbody>\n",
       "    <tr>\n",
       "      <th>1</th>\n",
       "      <td>tt1226229</td>\n",
       "      <td>3</td>\n",
       "      <td>nm0005253</td>\n",
       "      <td>actress</td>\n",
       "      <td>NaN</td>\n",
       "      <td>[\"Daphne Binks\"]</td>\n",
       "      <td>Elisabeth Moss</td>\n",
       "      <td>actress,producer,soundtrack</td>\n",
       "      <td>tt3993894,tt5834204,tt2756032,tt0172493</td>\n",
       "      <td>nm0831557</td>\n",
       "      <td>...</td>\n",
       "      <td>en</td>\n",
       "      <td>get him to the greek</td>\n",
       "      <td>8.485</td>\n",
       "      <td>2010-06-04</td>\n",
       "      <td>5.9</td>\n",
       "      <td>980</td>\n",
       "      <td>35.0</td>\n",
       "      <td>Uni.</td>\n",
       "      <td>61000000.0</td>\n",
       "      <td>2010</td>\n",
       "    </tr>\n",
       "    <tr>\n",
       "      <th>3</th>\n",
       "      <td>tt1226229</td>\n",
       "      <td>10</td>\n",
       "      <td>nm1015867</td>\n",
       "      <td>composer</td>\n",
       "      <td>NaN</td>\n",
       "      <td>NaN</td>\n",
       "      <td>Lyle Workman</td>\n",
       "      <td>composer,soundtrack,music_department</td>\n",
       "      <td>tt0829482,tt0405422,tt0800039,tt1068680</td>\n",
       "      <td>nm0831557</td>\n",
       "      <td>...</td>\n",
       "      <td>en</td>\n",
       "      <td>get him to the greek</td>\n",
       "      <td>8.485</td>\n",
       "      <td>2010-06-04</td>\n",
       "      <td>5.9</td>\n",
       "      <td>980</td>\n",
       "      <td>35.0</td>\n",
       "      <td>Uni.</td>\n",
       "      <td>61000000.0</td>\n",
       "      <td>2010</td>\n",
       "    </tr>\n",
       "    <tr>\n",
       "      <th>5</th>\n",
       "      <td>tt1226229</td>\n",
       "      <td>1</td>\n",
       "      <td>nm1706767</td>\n",
       "      <td>actor</td>\n",
       "      <td>NaN</td>\n",
       "      <td>[\"Aaron Green\"]</td>\n",
       "      <td>Jonah Hill</td>\n",
       "      <td>actor,producer,writer</td>\n",
       "      <td>tt1232829,tt2294449,tt1210166,tt0993846</td>\n",
       "      <td>nm0831557</td>\n",
       "      <td>...</td>\n",
       "      <td>en</td>\n",
       "      <td>get him to the greek</td>\n",
       "      <td>8.485</td>\n",
       "      <td>2010-06-04</td>\n",
       "      <td>5.9</td>\n",
       "      <td>980</td>\n",
       "      <td>35.0</td>\n",
       "      <td>Uni.</td>\n",
       "      <td>61000000.0</td>\n",
       "      <td>2010</td>\n",
       "    </tr>\n",
       "    <tr>\n",
       "      <th>7</th>\n",
       "      <td>tt1226229</td>\n",
       "      <td>2</td>\n",
       "      <td>nm1258970</td>\n",
       "      <td>actor</td>\n",
       "      <td>NaN</td>\n",
       "      <td>[\"Aldous Snow\"]</td>\n",
       "      <td>Russell Brand</td>\n",
       "      <td>actor,producer,writer</td>\n",
       "      <td>tt1334512,tt1336608,tt1226229,tt0800039</td>\n",
       "      <td>nm0831557</td>\n",
       "      <td>...</td>\n",
       "      <td>en</td>\n",
       "      <td>get him to the greek</td>\n",
       "      <td>8.485</td>\n",
       "      <td>2010-06-04</td>\n",
       "      <td>5.9</td>\n",
       "      <td>980</td>\n",
       "      <td>35.0</td>\n",
       "      <td>Uni.</td>\n",
       "      <td>61000000.0</td>\n",
       "      <td>2010</td>\n",
       "    </tr>\n",
       "    <tr>\n",
       "      <th>9</th>\n",
       "      <td>tt1226229</td>\n",
       "      <td>4</td>\n",
       "      <td>nm0126284</td>\n",
       "      <td>actress</td>\n",
       "      <td>NaN</td>\n",
       "      <td>[\"Jackie Q\"]</td>\n",
       "      <td>Rose Byrne</td>\n",
       "      <td>actress,soundtrack,producer</td>\n",
       "      <td>tt1591095,tt2004420,tt3079380,tt1478338</td>\n",
       "      <td>nm0831557</td>\n",
       "      <td>...</td>\n",
       "      <td>en</td>\n",
       "      <td>get him to the greek</td>\n",
       "      <td>8.485</td>\n",
       "      <td>2010-06-04</td>\n",
       "      <td>5.9</td>\n",
       "      <td>980</td>\n",
       "      <td>35.0</td>\n",
       "      <td>Uni.</td>\n",
       "      <td>61000000.0</td>\n",
       "      <td>2010</td>\n",
       "    </tr>\n",
       "  </tbody>\n",
       "</table>\n",
       "<p>5 rows × 47 columns</p>\n",
       "</div>"
      ],
      "text/plain": [
       "      tconst  ordering_x     nconst  category  job        characters  \\\n",
       "1  tt1226229           3  nm0005253   actress  NaN  [\"Daphne Binks\"]   \n",
       "3  tt1226229          10  nm1015867  composer  NaN               NaN   \n",
       "5  tt1226229           1  nm1706767     actor  NaN   [\"Aaron Green\"]   \n",
       "7  tt1226229           2  nm1258970     actor  NaN   [\"Aldous Snow\"]   \n",
       "9  tt1226229           4  nm0126284   actress  NaN      [\"Jackie Q\"]   \n",
       "\n",
       "     primary_name                    primary_profession  \\\n",
       "1  Elisabeth Moss           actress,producer,soundtrack   \n",
       "3    Lyle Workman  composer,soundtrack,music_department   \n",
       "5      Jonah Hill                 actor,producer,writer   \n",
       "7   Russell Brand                 actor,producer,writer   \n",
       "9      Rose Byrne           actress,soundtrack,producer   \n",
       "\n",
       "                          known_for_titles  directors  ... original_language  \\\n",
       "1  tt3993894,tt5834204,tt2756032,tt0172493  nm0831557  ...                en   \n",
       "3  tt0829482,tt0405422,tt0800039,tt1068680  nm0831557  ...                en   \n",
       "5  tt1232829,tt2294449,tt1210166,tt0993846  nm0831557  ...                en   \n",
       "7  tt1334512,tt1336608,tt1226229,tt0800039  nm0831557  ...                en   \n",
       "9  tt1591095,tt2004420,tt3079380,tt1478338  nm0831557  ...                en   \n",
       "\n",
       "       original_title_y  popularity release_date_y vote_average  vote_count  \\\n",
       "1  get him to the greek       8.485     2010-06-04          5.9         980   \n",
       "3  get him to the greek       8.485     2010-06-04          5.9         980   \n",
       "5  get him to the greek       8.485     2010-06-04          5.9         980   \n",
       "7  get him to the greek       8.485     2010-06-04          5.9         980   \n",
       "9  get him to the greek       8.485     2010-06-04          5.9         980   \n",
       "\n",
       "   genre_id studio  domestic_gross_y  year  \n",
       "1      35.0   Uni.        61000000.0  2010  \n",
       "3      35.0   Uni.        61000000.0  2010  \n",
       "5      35.0   Uni.        61000000.0  2010  \n",
       "7      35.0   Uni.        61000000.0  2010  \n",
       "9      35.0   Uni.        61000000.0  2010  \n",
       "\n",
       "[5 rows x 47 columns]"
      ]
     },
     "execution_count": 35,
     "metadata": {},
     "output_type": "execute_result"
    }
   ],
   "source": [
    "only_us_merged = final_merge.loc[final_merge['region'] == 'US']\n",
    "only_us_merged.head()"
   ]
  },
  {
   "cell_type": "markdown",
   "metadata": {},
   "source": [
    "## Making sure only english movies are counted"
   ]
  },
  {
   "cell_type": "code",
   "execution_count": 36,
   "metadata": {},
   "outputs": [
    {
     "data": {
      "text/plain": [
       "en    1370\n",
       "Name: language, dtype: int64"
      ]
     },
     "execution_count": 36,
     "metadata": {},
     "output_type": "execute_result"
    }
   ],
   "source": [
    "only_us_merged['language'].value_counts()"
   ]
  },
  {
   "cell_type": "markdown",
   "metadata": {},
   "source": [
    "# Droping columns that were not useful."
   ]
  },
  {
   "cell_type": "code",
   "execution_count": 37,
   "metadata": {
    "scrolled": true
   },
   "outputs": [],
   "source": [
    "to_drop = ['job', 'characters', 'language', 'types', 'attributes'\n",
    "           ,'is_original_title' , 'Unnamed: 0_x', 'id_x', 'id_y'\n",
    "           , 'domestic_gross_y', 'Unnamed: 0_y'\n",
    "           ,'original_title_y', 'ordering_x', 'ordering_y'\n",
    "           , 'original_title_x', 'genre_ids', 'release_date_y']\n",
    "\n",
    "only_us_merged.drop(labels = to_drop, axis = 1, inplace= True)"
   ]
  },
  {
   "cell_type": "markdown",
   "metadata": {},
   "source": [
    "## Changing some of the column names"
   ]
  },
  {
   "cell_type": "code",
   "execution_count": 38,
   "metadata": {},
   "outputs": [],
   "source": [
    "only_us_merged.rename(columns={'domestic_gross_x': 'domestic_gross', 'release_date_x' : 'release_date_int'}\n",
    "                      , inplace= True)"
   ]
  },
  {
   "cell_type": "markdown",
   "metadata": {},
   "source": [
    "# Making Domestic and Worldwide Net Profit"
   ]
  },
  {
   "cell_type": "code",
   "execution_count": 39,
   "metadata": {
    "scrolled": false
   },
   "outputs": [
    {
     "data": {
      "text/html": [
       "<div>\n",
       "<style scoped>\n",
       "    .dataframe tbody tr th:only-of-type {\n",
       "        vertical-align: middle;\n",
       "    }\n",
       "\n",
       "    .dataframe tbody tr th {\n",
       "        vertical-align: top;\n",
       "    }\n",
       "\n",
       "    .dataframe thead th {\n",
       "        text-align: right;\n",
       "    }\n",
       "</style>\n",
       "<table border=\"1\" class=\"dataframe\">\n",
       "  <thead>\n",
       "    <tr style=\"text-align: right;\">\n",
       "      <th></th>\n",
       "      <th>tconst</th>\n",
       "      <th>nconst</th>\n",
       "      <th>category</th>\n",
       "      <th>primary_name</th>\n",
       "      <th>primary_profession</th>\n",
       "      <th>known_for_titles</th>\n",
       "      <th>directors</th>\n",
       "      <th>writers</th>\n",
       "      <th>averagerating</th>\n",
       "      <th>numvotes</th>\n",
       "      <th>...</th>\n",
       "      <th>release_year</th>\n",
       "      <th>original_language</th>\n",
       "      <th>popularity</th>\n",
       "      <th>vote_average</th>\n",
       "      <th>vote_count</th>\n",
       "      <th>genre_id</th>\n",
       "      <th>studio</th>\n",
       "      <th>year</th>\n",
       "      <th>Domestic Net Profit</th>\n",
       "      <th>Worldwide Net Profit</th>\n",
       "    </tr>\n",
       "  </thead>\n",
       "  <tbody>\n",
       "    <tr>\n",
       "      <th>1</th>\n",
       "      <td>tt1226229</td>\n",
       "      <td>nm0005253</td>\n",
       "      <td>actress</td>\n",
       "      <td>Elisabeth Moss</td>\n",
       "      <td>actress,producer,soundtrack</td>\n",
       "      <td>tt3993894,tt5834204,tt2756032,tt0172493</td>\n",
       "      <td>nm0831557</td>\n",
       "      <td>nm0831557,nm0781981</td>\n",
       "      <td>6.4</td>\n",
       "      <td>161653</td>\n",
       "      <td>...</td>\n",
       "      <td>2010</td>\n",
       "      <td>en</td>\n",
       "      <td>8.485</td>\n",
       "      <td>5.9</td>\n",
       "      <td>980</td>\n",
       "      <td>35.0</td>\n",
       "      <td>Uni.</td>\n",
       "      <td>2010</td>\n",
       "      <td>21153526</td>\n",
       "      <td>51455875</td>\n",
       "    </tr>\n",
       "    <tr>\n",
       "      <th>3</th>\n",
       "      <td>tt1226229</td>\n",
       "      <td>nm1015867</td>\n",
       "      <td>composer</td>\n",
       "      <td>Lyle Workman</td>\n",
       "      <td>composer,soundtrack,music_department</td>\n",
       "      <td>tt0829482,tt0405422,tt0800039,tt1068680</td>\n",
       "      <td>nm0831557</td>\n",
       "      <td>nm0831557,nm0781981</td>\n",
       "      <td>6.4</td>\n",
       "      <td>161653</td>\n",
       "      <td>...</td>\n",
       "      <td>2010</td>\n",
       "      <td>en</td>\n",
       "      <td>8.485</td>\n",
       "      <td>5.9</td>\n",
       "      <td>980</td>\n",
       "      <td>35.0</td>\n",
       "      <td>Uni.</td>\n",
       "      <td>2010</td>\n",
       "      <td>21153526</td>\n",
       "      <td>51455875</td>\n",
       "    </tr>\n",
       "    <tr>\n",
       "      <th>5</th>\n",
       "      <td>tt1226229</td>\n",
       "      <td>nm1706767</td>\n",
       "      <td>actor</td>\n",
       "      <td>Jonah Hill</td>\n",
       "      <td>actor,producer,writer</td>\n",
       "      <td>tt1232829,tt2294449,tt1210166,tt0993846</td>\n",
       "      <td>nm0831557</td>\n",
       "      <td>nm0831557,nm0781981</td>\n",
       "      <td>6.4</td>\n",
       "      <td>161653</td>\n",
       "      <td>...</td>\n",
       "      <td>2010</td>\n",
       "      <td>en</td>\n",
       "      <td>8.485</td>\n",
       "      <td>5.9</td>\n",
       "      <td>980</td>\n",
       "      <td>35.0</td>\n",
       "      <td>Uni.</td>\n",
       "      <td>2010</td>\n",
       "      <td>21153526</td>\n",
       "      <td>51455875</td>\n",
       "    </tr>\n",
       "    <tr>\n",
       "      <th>7</th>\n",
       "      <td>tt1226229</td>\n",
       "      <td>nm1258970</td>\n",
       "      <td>actor</td>\n",
       "      <td>Russell Brand</td>\n",
       "      <td>actor,producer,writer</td>\n",
       "      <td>tt1334512,tt1336608,tt1226229,tt0800039</td>\n",
       "      <td>nm0831557</td>\n",
       "      <td>nm0831557,nm0781981</td>\n",
       "      <td>6.4</td>\n",
       "      <td>161653</td>\n",
       "      <td>...</td>\n",
       "      <td>2010</td>\n",
       "      <td>en</td>\n",
       "      <td>8.485</td>\n",
       "      <td>5.9</td>\n",
       "      <td>980</td>\n",
       "      <td>35.0</td>\n",
       "      <td>Uni.</td>\n",
       "      <td>2010</td>\n",
       "      <td>21153526</td>\n",
       "      <td>51455875</td>\n",
       "    </tr>\n",
       "    <tr>\n",
       "      <th>9</th>\n",
       "      <td>tt1226229</td>\n",
       "      <td>nm0126284</td>\n",
       "      <td>actress</td>\n",
       "      <td>Rose Byrne</td>\n",
       "      <td>actress,soundtrack,producer</td>\n",
       "      <td>tt1591095,tt2004420,tt3079380,tt1478338</td>\n",
       "      <td>nm0831557</td>\n",
       "      <td>nm0831557,nm0781981</td>\n",
       "      <td>6.4</td>\n",
       "      <td>161653</td>\n",
       "      <td>...</td>\n",
       "      <td>2010</td>\n",
       "      <td>en</td>\n",
       "      <td>8.485</td>\n",
       "      <td>5.9</td>\n",
       "      <td>980</td>\n",
       "      <td>35.0</td>\n",
       "      <td>Uni.</td>\n",
       "      <td>2010</td>\n",
       "      <td>21153526</td>\n",
       "      <td>51455875</td>\n",
       "    </tr>\n",
       "  </tbody>\n",
       "</table>\n",
       "<p>5 rows × 32 columns</p>\n",
       "</div>"
      ],
      "text/plain": [
       "      tconst     nconst  category    primary_name  \\\n",
       "1  tt1226229  nm0005253   actress  Elisabeth Moss   \n",
       "3  tt1226229  nm1015867  composer    Lyle Workman   \n",
       "5  tt1226229  nm1706767     actor      Jonah Hill   \n",
       "7  tt1226229  nm1258970     actor   Russell Brand   \n",
       "9  tt1226229  nm0126284   actress      Rose Byrne   \n",
       "\n",
       "                     primary_profession  \\\n",
       "1           actress,producer,soundtrack   \n",
       "3  composer,soundtrack,music_department   \n",
       "5                 actor,producer,writer   \n",
       "7                 actor,producer,writer   \n",
       "9           actress,soundtrack,producer   \n",
       "\n",
       "                          known_for_titles  directors              writers  \\\n",
       "1  tt3993894,tt5834204,tt2756032,tt0172493  nm0831557  nm0831557,nm0781981   \n",
       "3  tt0829482,tt0405422,tt0800039,tt1068680  nm0831557  nm0831557,nm0781981   \n",
       "5  tt1232829,tt2294449,tt1210166,tt0993846  nm0831557  nm0831557,nm0781981   \n",
       "7  tt1334512,tt1336608,tt1226229,tt0800039  nm0831557  nm0831557,nm0781981   \n",
       "9  tt1591095,tt2004420,tt3079380,tt1478338  nm0831557  nm0831557,nm0781981   \n",
       "\n",
       "   averagerating  numvotes  ... release_year  original_language  popularity  \\\n",
       "1            6.4    161653  ...         2010                 en       8.485   \n",
       "3            6.4    161653  ...         2010                 en       8.485   \n",
       "5            6.4    161653  ...         2010                 en       8.485   \n",
       "7            6.4    161653  ...         2010                 en       8.485   \n",
       "9            6.4    161653  ...         2010                 en       8.485   \n",
       "\n",
       "  vote_average vote_count genre_id studio  year  Domestic Net Profit  \\\n",
       "1          5.9        980     35.0   Uni.  2010             21153526   \n",
       "3          5.9        980     35.0   Uni.  2010             21153526   \n",
       "5          5.9        980     35.0   Uni.  2010             21153526   \n",
       "7          5.9        980     35.0   Uni.  2010             21153526   \n",
       "9          5.9        980     35.0   Uni.  2010             21153526   \n",
       "\n",
       "   Worldwide Net Profit  \n",
       "1              51455875  \n",
       "3              51455875  \n",
       "5              51455875  \n",
       "7              51455875  \n",
       "9              51455875  \n",
       "\n",
       "[5 rows x 32 columns]"
      ]
     },
     "execution_count": 39,
     "metadata": {},
     "output_type": "execute_result"
    }
   ],
   "source": [
    "only_us_merged['Domestic Net Profit'] = only_us_merged['domestic_gross'] - only_us_merged['production_budget']\n",
    "only_us_merged['Worldwide Net Profit'] = only_us_merged['worldwide_gross'] - only_us_merged['production_budget']\n",
    "only_us_merged.head(5)"
   ]
  },
  {
   "cell_type": "markdown",
   "metadata": {},
   "source": [
    "# EXPORT THE DATA"
   ]
  },
  {
   "cell_type": "code",
   "execution_count": 40,
   "metadata": {},
   "outputs": [],
   "source": [
    "# only_us_merged.to_csv('Data/imdb_cleaned_final.csv', index = False)"
   ]
  },
  {
   "cell_type": "markdown",
   "metadata": {},
   "source": [
    "# Graphing `Runtime` vs `Worldwide Net Profit`"
   ]
  },
  {
   "cell_type": "code",
   "execution_count": 41,
   "metadata": {
    "scrolled": false
   },
   "outputs": [
    {
     "data": {
      "image/png": "[encoded data removed]",
      "text/plain": [
       "<Figure size 1080x432 with 1 Axes>"
      ]
     },
     "metadata": {
      "needs_background": "light"
     },
     "output_type": "display_data"
    }
   ],
   "source": [
    "fig, ax = plt.subplots(figsize = (15,6))\n",
    "\n",
    "x = only_us_merged.groupby('runtime_minutes')['Worldwide Net Profit'].mean().index\n",
    "y = only_us_merged.groupby('runtime_minutes')['Worldwide Net Profit'].mean().values\n",
    "\n",
    "sns.regplot(x,y)\n",
    "\n",
    "ax.scatter(x,y)\n",
    "ax.set_xlabel('Runtime (min)')\n",
    "ax.set_ylabel('Worldwide Net Proft ($ Millions)')\n",
    "ax.set_title('Runtime v. Worldwide Net Profit \\n (IMDB)')\n",
    "ax.set_yticks(range(-200000000,1500000000, 100000000))\n",
    "ax.set_yticklabels(range(-20,150,10));"
   ]
  },
  {
   "cell_type": "markdown",
   "metadata": {},
   "source": [
    "## Correlation between the two variables"
   ]
  },
  {
   "cell_type": "code",
   "execution_count": 42,
   "metadata": {},
   "outputs": [
    {
     "name": "stdout",
     "output_type": "stream",
     "text": [
      "The correlation between runtime and worlwide net profits is 0.27\n"
     ]
    }
   ],
   "source": [
    "corr_1 = round(only_us_merged.corr()['runtime_minutes']['Worldwide Net Profit'], 2)\n",
    "print(f'The correlation between runtime and worlwide net profits is {corr_1}')"
   ]
  },
  {
   "cell_type": "markdown",
   "metadata": {},
   "source": [
    "When looking for a relationship between `runtime` and `worldwide net profits` we found a very weak correlation between the two variables. The correlation between the two variables is *0.27*, and looking at the scatter plot there is a tendency of the data below 120 minutes to have a low variance. However, when the runtime exceeds 125 minutes the variance of the data fluctuates greatly and no reasonable conclusion can be drawn from this. "
   ]
  },
  {
   "cell_type": "markdown",
   "metadata": {},
   "source": [
    "# Graphing `Runtime` vs `Average Rating`"
   ]
  },
  {
   "cell_type": "code",
   "execution_count": 43,
   "metadata": {},
   "outputs": [
    {
     "data": {
      "image/png": "[encoded data removed]",
      "text/plain": [
       "<Figure size 1080x360 with 1 Axes>"
      ]
     },
     "metadata": {
      "needs_background": "light"
     },
     "output_type": "display_data"
    }
   ],
   "source": [
    "fig, ax = plt.subplots(figsize = (15,5))\n",
    "\n",
    "x = only_us_merged.groupby('runtime_minutes')['averagerating'].mean().index\n",
    "y = only_us_merged.groupby('runtime_minutes')['averagerating'].mean().values\n",
    "\n",
    "sns.regplot(x,y)\n",
    "\n",
    "ax.scatter(x,y)\n",
    "ax.set_xlabel('Runtime (min)')\n",
    "ax.set_ylabel('Average Rating (1-10)')\n",
    "ax.set_title('Runtime v. Average Rating \\n (IMDB)');"
   ]
  },
  {
   "cell_type": "markdown",
   "metadata": {},
   "source": [
    "## Correlation matrix between the two variables"
   ]
  },
  {
   "cell_type": "code",
   "execution_count": 44,
   "metadata": {},
   "outputs": [
    {
     "name": "stdout",
     "output_type": "stream",
     "text": [
      "The correlation bewtween runtime and average rating is 0.39\n"
     ]
    }
   ],
   "source": [
    "corr_2 =  round(only_us_merged.corr()['runtime_minutes']['averagerating'], 2)\n",
    "\n",
    "print(f'The correlation bewtween runtime and average rating is {corr_2}')"
   ]
  },
  {
   "cell_type": "markdown",
   "metadata": {},
   "source": [
    "When looking for a relationship between `runtime` and `average rating` we found a weak correlation between the two variables. The correlation between the two variables is *0.39*. However, this does not provide a good context of the data when looking at the scatter plot. We can see that most of the data below 90 minutes has a very large variance, and most of the data above 140 minutes has a greater than expected variance. While most of the data between 90 minutes and 140 minutes does have very low variance and some of the data is within our 95% confidence interval. We would be unable to make any reasonable conclusion from the data below 90 minutes and 140 minutes, and drawing a conclusion from the data between those two intervals would not account for any confounding variable. "
   ]
  },
  {
   "cell_type": "markdown",
   "metadata": {},
   "source": [
    "## Nina's plots"
   ]
  },
  {
   "cell_type": "code",
   "execution_count": 45,
   "metadata": {},
   "outputs": [],
   "source": [
    "# #filter the data for movies released from 2016-2020 and return the genre, world wide profit, and year columns\n",
    "# world_wide = final_merge.loc[df['year'].isin(range(2016,2020)),['genre_str', 'year', 'Worldwide Net Profit']]\n",
    "# #create a pivot table containing the year, genre and average net profit\n",
    "# pivot = world_wide.pivot_table(columns='year', index='genre_str', values='Worldwide Net Profit')\n",
    "\n",
    "# #plots the above pivot table \n",
    "# ax = pivot.plot.bar(stacked=True)\n",
    "# ax.set_ylabel('Net Profit (Billions)')\n",
    "# ax.set_xlabel('Genre')\n",
    "# ax.set_title('Average Box Office Profit World Wide');\n",
    "# '''\n",
    "# From this plot, we see a consistent return on action, adventure, animation, and scifi films. \n",
    "# Adventure, Animation, and Fantasy are the top three genres with the highest profit margin\n",
    "# '''"
   ]
  },
  {
   "cell_type": "code",
   "execution_count": 46,
   "metadata": {},
   "outputs": [],
   "source": [
    "# '''\n",
    "# Creates a dictionary of the numeric months paired with their string value.\n",
    "# This dictionary is mapped over 'release_month' column to create a 'release_month_str' column\n",
    "# '''\n",
    "# month_dict = dict(zip(range(1,13), month_name[1:]))\n",
    "# final_merge['release_month_str'] = final_merge['release_month'].map(month_dict)\n",
    "\n",
    "\n",
    "# #Filters the dataframe for movies that are classified as the one of the top three most profitable genres\n",
    "# target_genres = final_merge[final_merge['genre_str'].isin('Adventure Animation Fantasy'.split())]\n",
    "\n",
    "# #Creates a pivot table with Genre as columns, release month as index, and average worldwide profit as values\n",
    "# genre_month_released_profit = target_genres.pivot_table(columns='genre_str', index='release_month_str', values='Worldwide Net Profit')\n",
    "# genre_month_released_profit.columns.name = 'Genre'\n",
    "\n",
    "# '''\n",
    "# Creates a stacked bar plot:\n",
    "#     Each bar represents a month\n",
    "#     Values that make up the bar are grouped by genre\n",
    "#     y-axis is Net Profit\n",
    "# '''\n",
    "# ax = genre_month_released_profit.plot.bar(stacked=True)\n",
    "# ax.set_ylabel('Net Profit (Billions)')\n",
    "# ax.set_xlabel('Release Month')\n",
    "# ax.set_title('Average Box Office Profit World Wide');\n",
    "# '''\n",
    "# According to the pivot table and bar chart:\n",
    "# Fantasy has its highest profits in April, June, and November\n",
    "# Animation has its highest profits in June, February, and July\n",
    "# And Adventure has its highest profits in June, December, and November\n",
    "# '''"
   ]
  },
  {
   "cell_type": "code",
   "execution_count": 47,
   "metadata": {},
   "outputs": [],
   "source": [
    "def bar(height,y,x_label,y_tick_label, y_label,  title,):\n",
    "    #Initialize figure and create bar plot on figure axis\n",
    "    fig, ax = plt.subplots()\n",
    "    ax.barh(y,height)\n",
    "    \n",
    "    #Sets plot axis and title parameters\n",
    "    ax.set_title(title)\n",
    "    ax.set_yticks(range(len(y)))\n",
    "    ax.set_yticklabels(y_tick_label)\n",
    "    ax.set_ylabel(y_label)\n",
    "    ax.set_xlabel(x_label) "
   ]
  },
  {
   "cell_type": "code",
   "execution_count": 48,
   "metadata": {},
   "outputs": [],
   "source": [
    "# #Filter's df for rows where numvotes is at least 100\n",
    "# rating_df = final_merge.loc[df['numvotes'] >=100, ['genre_str', 'averagerating']]\n",
    "\n",
    "# #Groups the filtered data by genre and takes the mean of the 'averagerating' column\n",
    "# average_rating_genre = final_merge.groupby('genre_str')['averagerating'].mean()\n",
    "\n",
    "# #Uses a horizontal bar chart to display each genres (x axis) average user rating\n",
    "# bar(\n",
    "#     average_rating_genre.values\n",
    "#     ,range(len(average_rating_genre))\n",
    "#     ,'Rating'\n",
    "#     ,average_rating_genre.index.values\n",
    "#     ,'Genre'\n",
    "#     ,'Average User Rating by Genre (imbd)'\n",
    "# )\n",
    "# '''\n",
    "# We can see that the average user rating isn't influenced by genre\n",
    "# because they don't appear to be significantly different. \n",
    "# '''"
   ]
  }
 ],
 "metadata": {
  "kernelspec": {
   "display_name": "Python 3",
   "language": "python",
   "name": "python3"
  },
  "language_info": {
   "codemirror_mode": {
    "name": "ipython",
    "version": 3
   },
   "file_extension": ".py",
   "mimetype": "text/x-python",
   "name": "python",
   "nbconvert_exporter": "python",
   "pygments_lexer": "ipython3",
   "version": "3.8.5"
  }
 },
 "nbformat": 4,
 "nbformat_minor": 4
}
